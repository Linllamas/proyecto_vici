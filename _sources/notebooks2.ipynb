{
 "cells": [
  {
   "cell_type": "markdown",
   "metadata": {},
   "source": [
    "# Análisis de datos nulos"
   ]
  },
  {
   "cell_type": "code",
   "execution_count": 1,
   "metadata": {},
   "outputs": [],
   "source": [
    "# Librerias\n",
    "import warnings\n",
    "warnings.filterwarnings('ignore')\n",
    "import pandas as pd\n",
    "import os\n",
    "import numpy as np\n",
    "import plotly.express as px\n",
    "import plotly.graph_objects as go\n",
    "from plotly.subplots import make_subplots\n",
    "import missingno as msno\n",
    "import matplotlib.pyplot as plt\n",
    "import seaborn as sns\n",
    "\n",
    "from sklearn.model_selection import train_test_split\n",
    "from sklearn.metrics import mean_squared_error\n",
    "from sklearn.pipeline import Pipeline\n",
    "from sklearn.pipeline import make_pipeline\n",
    "from sklearn.experimental import enable_iterative_imputer\n",
    "#enable_iterative_imputer() \n",
    "from sklearn.impute import IterativeImputer\n",
    "from sklearn.compose import ColumnTransformer\n",
    "from sklearn.preprocessing import OneHotEncoder\n",
    "from sklearn.preprocessing import MinMaxScaler\n",
    "from fuzzywuzzy import process\n",
    "import pandas as pd"
   ]
  },
  {
   "cell_type": "code",
   "execution_count": 2,
   "metadata": {},
   "outputs": [],
   "source": [
    "# Definir la paleta de colores personalizada\n",
    "custom_colors = ['#1F3040', '#B9CDCA', '#F2C6AC', '#D99982', '#735749']"
   ]
  },
  {
   "cell_type": "code",
   "execution_count": 3,
   "metadata": {},
   "outputs": [],
   "source": [
    "ventas = pd.read_csv('C:/UNINORTE/VC/Proyecto2/Informe/docs/datos4.csv')"
   ]
  },
  {
   "cell_type": "code",
   "execution_count": 4,
   "metadata": {},
   "outputs": [
    {
     "data": {
      "text/html": [
       "<div>\n",
       "<style scoped>\n",
       "    .dataframe tbody tr th:only-of-type {\n",
       "        vertical-align: middle;\n",
       "    }\n",
       "\n",
       "    .dataframe tbody tr th {\n",
       "        vertical-align: top;\n",
       "    }\n",
       "\n",
       "    .dataframe thead th {\n",
       "        text-align: right;\n",
       "    }\n",
       "</style>\n",
       "<table border=\"1\" class=\"dataframe\">\n",
       "  <thead>\n",
       "    <tr style=\"text-align: right;\">\n",
       "      <th></th>\n",
       "      <th>count</th>\n",
       "      <th>mean</th>\n",
       "      <th>std</th>\n",
       "      <th>min</th>\n",
       "      <th>25%</th>\n",
       "      <th>50%</th>\n",
       "      <th>75%</th>\n",
       "      <th>max</th>\n",
       "    </tr>\n",
       "  </thead>\n",
       "  <tbody>\n",
       "    <tr>\n",
       "      <th>lat</th>\n",
       "      <td>135094.0</td>\n",
       "      <td>5.647384e+00</td>\n",
       "      <td>2.210987e+00</td>\n",
       "      <td>3.254000e+00</td>\n",
       "      <td>4.649485e+00</td>\n",
       "      <td>4.720665e+00</td>\n",
       "      <td>6.205749e+00</td>\n",
       "      <td>1.104366e+01</td>\n",
       "    </tr>\n",
       "    <tr>\n",
       "      <th>long</th>\n",
       "      <td>136123.0</td>\n",
       "      <td>-7.485399e+01</td>\n",
       "      <td>8.810261e-01</td>\n",
       "      <td>-7.657617e+01</td>\n",
       "      <td>-7.556735e+01</td>\n",
       "      <td>-7.418215e+01</td>\n",
       "      <td>-7.406466e+01</td>\n",
       "      <td>-7.396190e+01</td>\n",
       "    </tr>\n",
       "    <tr>\n",
       "      <th>price</th>\n",
       "      <td>157909.0</td>\n",
       "      <td>4.961173e+08</td>\n",
       "      <td>4.050359e+08</td>\n",
       "      <td>2.000000e+06</td>\n",
       "      <td>2.400000e+08</td>\n",
       "      <td>3.700000e+08</td>\n",
       "      <td>6.000000e+08</td>\n",
       "      <td>4.900000e+09</td>\n",
       "    </tr>\n",
       "    <tr>\n",
       "      <th>rooms</th>\n",
       "      <td>153653.0</td>\n",
       "      <td>2.983157e+00</td>\n",
       "      <td>1.020468e+00</td>\n",
       "      <td>1.000000e+00</td>\n",
       "      <td>2.000000e+00</td>\n",
       "      <td>3.000000e+00</td>\n",
       "      <td>3.000000e+00</td>\n",
       "      <td>7.000000e+00</td>\n",
       "    </tr>\n",
       "    <tr>\n",
       "      <th>baths</th>\n",
       "      <td>156636.0</td>\n",
       "      <td>2.558543e+00</td>\n",
       "      <td>1.123930e+00</td>\n",
       "      <td>1.000000e+00</td>\n",
       "      <td>2.000000e+00</td>\n",
       "      <td>2.000000e+00</td>\n",
       "      <td>3.000000e+00</td>\n",
       "      <td>7.000000e+00</td>\n",
       "    </tr>\n",
       "    <tr>\n",
       "      <th>park</th>\n",
       "      <td>156972.0</td>\n",
       "      <td>1.171884e+00</td>\n",
       "      <td>9.385208e-01</td>\n",
       "      <td>0.000000e+00</td>\n",
       "      <td>1.000000e+00</td>\n",
       "      <td>1.000000e+00</td>\n",
       "      <td>2.000000e+00</td>\n",
       "      <td>5.000000e+00</td>\n",
       "    </tr>\n",
       "    <tr>\n",
       "      <th>area_privada</th>\n",
       "      <td>106558.0</td>\n",
       "      <td>1.115772e+02</td>\n",
       "      <td>6.274762e+01</td>\n",
       "      <td>1.000000e+00</td>\n",
       "      <td>6.500000e+01</td>\n",
       "      <td>9.200000e+01</td>\n",
       "      <td>1.410000e+02</td>\n",
       "      <td>3.240000e+02</td>\n",
       "    </tr>\n",
       "    <tr>\n",
       "      <th>area_const</th>\n",
       "      <td>151637.0</td>\n",
       "      <td>1.126387e+02</td>\n",
       "      <td>6.388135e+01</td>\n",
       "      <td>1.000000e+00</td>\n",
       "      <td>6.500000e+01</td>\n",
       "      <td>9.300000e+01</td>\n",
       "      <td>1.430000e+02</td>\n",
       "      <td>3.250000e+02</td>\n",
       "    </tr>\n",
       "    <tr>\n",
       "      <th>admon</th>\n",
       "      <td>97043.0</td>\n",
       "      <td>3.527261e+05</td>\n",
       "      <td>2.487091e+05</td>\n",
       "      <td>0.000000e+00</td>\n",
       "      <td>1.673000e+05</td>\n",
       "      <td>2.900000e+05</td>\n",
       "      <td>4.910000e+05</td>\n",
       "      <td>1.121000e+06</td>\n",
       "    </tr>\n",
       "    <tr>\n",
       "      <th>Estrato</th>\n",
       "      <td>155484.0</td>\n",
       "      <td>4.353715e+00</td>\n",
       "      <td>1.279689e+00</td>\n",
       "      <td>1.000000e+00</td>\n",
       "      <td>3.000000e+00</td>\n",
       "      <td>4.000000e+00</td>\n",
       "      <td>6.000000e+00</td>\n",
       "      <td>6.000000e+00</td>\n",
       "    </tr>\n",
       "    <tr>\n",
       "      <th>Estado</th>\n",
       "      <td>91725.0</td>\n",
       "      <td>4.501052e+00</td>\n",
       "      <td>5.422005e-01</td>\n",
       "      <td>3.000000e+00</td>\n",
       "      <td>4.000000e+00</td>\n",
       "      <td>5.000000e+00</td>\n",
       "      <td>5.000000e+00</td>\n",
       "      <td>5.000000e+00</td>\n",
       "    </tr>\n",
       "    <tr>\n",
       "      <th>Piso No</th>\n",
       "      <td>96081.0</td>\n",
       "      <td>4.254233e+00</td>\n",
       "      <td>3.114510e+00</td>\n",
       "      <td>1.000000e+00</td>\n",
       "      <td>2.000000e+00</td>\n",
       "      <td>3.000000e+00</td>\n",
       "      <td>5.000000e+00</td>\n",
       "      <td>1.600000e+01</td>\n",
       "    </tr>\n",
       "  </tbody>\n",
       "</table>\n",
       "</div>"
      ],
      "text/plain": [
       "                 count          mean           std           min  \\\n",
       "lat           135094.0  5.647384e+00  2.210987e+00  3.254000e+00   \n",
       "long          136123.0 -7.485399e+01  8.810261e-01 -7.657617e+01   \n",
       "price         157909.0  4.961173e+08  4.050359e+08  2.000000e+06   \n",
       "rooms         153653.0  2.983157e+00  1.020468e+00  1.000000e+00   \n",
       "baths         156636.0  2.558543e+00  1.123930e+00  1.000000e+00   \n",
       "park          156972.0  1.171884e+00  9.385208e-01  0.000000e+00   \n",
       "area_privada  106558.0  1.115772e+02  6.274762e+01  1.000000e+00   \n",
       "area_const    151637.0  1.126387e+02  6.388135e+01  1.000000e+00   \n",
       "admon          97043.0  3.527261e+05  2.487091e+05  0.000000e+00   \n",
       "Estrato       155484.0  4.353715e+00  1.279689e+00  1.000000e+00   \n",
       "Estado         91725.0  4.501052e+00  5.422005e-01  3.000000e+00   \n",
       "Piso No        96081.0  4.254233e+00  3.114510e+00  1.000000e+00   \n",
       "\n",
       "                       25%           50%           75%           max  \n",
       "lat           4.649485e+00  4.720665e+00  6.205749e+00  1.104366e+01  \n",
       "long         -7.556735e+01 -7.418215e+01 -7.406466e+01 -7.396190e+01  \n",
       "price         2.400000e+08  3.700000e+08  6.000000e+08  4.900000e+09  \n",
       "rooms         2.000000e+00  3.000000e+00  3.000000e+00  7.000000e+00  \n",
       "baths         2.000000e+00  2.000000e+00  3.000000e+00  7.000000e+00  \n",
       "park          1.000000e+00  1.000000e+00  2.000000e+00  5.000000e+00  \n",
       "area_privada  6.500000e+01  9.200000e+01  1.410000e+02  3.240000e+02  \n",
       "area_const    6.500000e+01  9.300000e+01  1.430000e+02  3.250000e+02  \n",
       "admon         1.673000e+05  2.900000e+05  4.910000e+05  1.121000e+06  \n",
       "Estrato       3.000000e+00  4.000000e+00  6.000000e+00  6.000000e+00  \n",
       "Estado        4.000000e+00  5.000000e+00  5.000000e+00  5.000000e+00  \n",
       "Piso No       2.000000e+00  3.000000e+00  5.000000e+00  1.600000e+01  "
      ]
     },
     "execution_count": 4,
     "metadata": {},
     "output_type": "execute_result"
    }
   ],
   "source": [
    "ventas.describe().T"
   ]
  },
  {
   "cell_type": "code",
   "execution_count": 5,
   "metadata": {},
   "outputs": [
    {
     "name": "stdout",
     "output_type": "stream",
     "text": [
      "<class 'pandas.core.frame.DataFrame'>\n",
      "RangeIndex: 157909 entries, 0 to 157908\n",
      "Data columns (total 18 columns):\n",
      " #   Column               Non-Null Count   Dtype  \n",
      "---  ------               --------------   -----  \n",
      " 0   lat                  135094 non-null  float64\n",
      " 1   long                 136123 non-null  float64\n",
      " 2   category             157909 non-null  object \n",
      " 3   price                157909 non-null  float64\n",
      " 4   rooms                153653 non-null  float64\n",
      " 5   baths                156636 non-null  float64\n",
      " 6   park                 156972 non-null  float64\n",
      " 7   ciudad               157909 non-null  object \n",
      " 8   barrio               157690 non-null  object \n",
      " 9   area_privada         106558 non-null  float64\n",
      " 10  area_const           151637 non-null  float64\n",
      " 11  admon                97043 non-null   float64\n",
      " 12  Estrato              155484 non-null  float64\n",
      " 13  Estado               91725 non-null   float64\n",
      " 14  Antiguedad           130407 non-null  object \n",
      " 15  Piso No              96081 non-null   float64\n",
      " 16  Tipo de Apartamento  48024 non-null   object \n",
      " 17  Sector               125279 non-null  object \n",
      "dtypes: float64(12), object(6)\n",
      "memory usage: 21.7+ MB\n"
     ]
    }
   ],
   "source": [
    "ventas.info()"
   ]
  },
  {
   "cell_type": "code",
   "execution_count": 6,
   "metadata": {},
   "outputs": [
    {
     "name": "stdout",
     "output_type": "stream",
     "text": [
      "                     Conteo  Porcentaje  Porcentaje_Unicos\n",
      "lat                   22815   14.448195          45.972047\n",
      "long                  21786   13.796554          25.176526\n",
      "category                  0    0.000000           0.001900\n",
      "price                     0    0.000000           2.576801\n",
      "rooms                  4256    2.695223           0.004433\n",
      "baths                  1273    0.806161           0.004433\n",
      "park                    937    0.593380           0.003800\n",
      "ciudad                    0    0.000000           0.005066\n",
      "barrio                  219    0.138687           3.558379\n",
      "area_privada          51351   32.519362           0.514853\n",
      "area_const             6272    3.971908           1.484399\n",
      "admon                 60866   38.544985           3.071389\n",
      "Estrato                2425    1.535695           0.003800\n",
      "Estado                66184   41.912747           0.001900\n",
      "Antiguedad            27502   17.416360           0.003166\n",
      "Piso No               61828   39.154196           0.010132\n",
      "Tipo de Apartamento  109885   69.587547           0.005066\n",
      "Sector                32630   20.663800           0.599079\n"
     ]
    }
   ],
   "source": [
    "# DataFrame para el análisis de datos nulos y datos únicos\n",
    "analisis_nulos = pd.DataFrame({\n",
    "    'Conteo': ventas.isnull().sum(),  # Conteo de valores nulos\n",
    "    'Porcentaje': (ventas.isnull().sum() / len(ventas)) * 100,  # Porcentaje de valores nulos\n",
    "    'Porcentaje_Unicos': (ventas.nunique() / len(ventas)) * 100  # Porcentaje de valores únicos\n",
    "})\n",
    "\n",
    "print(analisis_nulos)"
   ]
  },
  {
   "cell_type": "code",
   "execution_count": 7,
   "metadata": {},
   "outputs": [
    {
     "data": {
      "application/vnd.plotly.v1+json": {
       "config": {
        "plotlyServerURL": "https://plot.ly"
       },
       "data": [
        {
         "alignmentgroup": "True",
         "hovertemplate": "index=%{x}<br>Conteo=%{y}<extra></extra>",
         "legendgroup": "",
         "marker": {
          "color": "#F2C6AC",
          "pattern": {
           "shape": ""
          }
         },
         "name": "",
         "offsetgroup": "",
         "orientation": "v",
         "showlegend": false,
         "textposition": "auto",
         "type": "bar",
         "x": [
          "lat",
          "long",
          "category",
          "price",
          "rooms",
          "baths",
          "park",
          "ciudad",
          "barrio",
          "area_privada",
          "area_const",
          "admon",
          "Estrato",
          "Estado",
          "Antiguedad",
          "Piso No",
          "Tipo de Apartamento",
          "Sector"
         ],
         "xaxis": "x",
         "y": [
          22815,
          21786,
          0,
          0,
          4256,
          1273,
          937,
          0,
          219,
          51351,
          6272,
          60866,
          2425,
          66184,
          27502,
          61828,
          109885,
          32630
         ],
         "yaxis": "y"
        }
       ],
       "layout": {
        "barmode": "relative",
        "legend": {
         "tracegroupgap": 0
        },
        "template": {
         "data": {
          "bar": [
           {
            "error_x": {
             "color": "#2a3f5f"
            },
            "error_y": {
             "color": "#2a3f5f"
            },
            "marker": {
             "line": {
              "color": "#E5ECF6",
              "width": 0.5
             },
             "pattern": {
              "fillmode": "overlay",
              "size": 10,
              "solidity": 0.2
             }
            },
            "type": "bar"
           }
          ],
          "barpolar": [
           {
            "marker": {
             "line": {
              "color": "#E5ECF6",
              "width": 0.5
             },
             "pattern": {
              "fillmode": "overlay",
              "size": 10,
              "solidity": 0.2
             }
            },
            "type": "barpolar"
           }
          ],
          "carpet": [
           {
            "aaxis": {
             "endlinecolor": "#2a3f5f",
             "gridcolor": "white",
             "linecolor": "white",
             "minorgridcolor": "white",
             "startlinecolor": "#2a3f5f"
            },
            "baxis": {
             "endlinecolor": "#2a3f5f",
             "gridcolor": "white",
             "linecolor": "white",
             "minorgridcolor": "white",
             "startlinecolor": "#2a3f5f"
            },
            "type": "carpet"
           }
          ],
          "choropleth": [
           {
            "colorbar": {
             "outlinewidth": 0,
             "ticks": ""
            },
            "type": "choropleth"
           }
          ],
          "contour": [
           {
            "colorbar": {
             "outlinewidth": 0,
             "ticks": ""
            },
            "colorscale": [
             [
              0,
              "#0d0887"
             ],
             [
              0.1111111111111111,
              "#46039f"
             ],
             [
              0.2222222222222222,
              "#7201a8"
             ],
             [
              0.3333333333333333,
              "#9c179e"
             ],
             [
              0.4444444444444444,
              "#bd3786"
             ],
             [
              0.5555555555555556,
              "#d8576b"
             ],
             [
              0.6666666666666666,
              "#ed7953"
             ],
             [
              0.7777777777777778,
              "#fb9f3a"
             ],
             [
              0.8888888888888888,
              "#fdca26"
             ],
             [
              1,
              "#f0f921"
             ]
            ],
            "type": "contour"
           }
          ],
          "contourcarpet": [
           {
            "colorbar": {
             "outlinewidth": 0,
             "ticks": ""
            },
            "type": "contourcarpet"
           }
          ],
          "heatmap": [
           {
            "colorbar": {
             "outlinewidth": 0,
             "ticks": ""
            },
            "colorscale": [
             [
              0,
              "#0d0887"
             ],
             [
              0.1111111111111111,
              "#46039f"
             ],
             [
              0.2222222222222222,
              "#7201a8"
             ],
             [
              0.3333333333333333,
              "#9c179e"
             ],
             [
              0.4444444444444444,
              "#bd3786"
             ],
             [
              0.5555555555555556,
              "#d8576b"
             ],
             [
              0.6666666666666666,
              "#ed7953"
             ],
             [
              0.7777777777777778,
              "#fb9f3a"
             ],
             [
              0.8888888888888888,
              "#fdca26"
             ],
             [
              1,
              "#f0f921"
             ]
            ],
            "type": "heatmap"
           }
          ],
          "heatmapgl": [
           {
            "colorbar": {
             "outlinewidth": 0,
             "ticks": ""
            },
            "colorscale": [
             [
              0,
              "#0d0887"
             ],
             [
              0.1111111111111111,
              "#46039f"
             ],
             [
              0.2222222222222222,
              "#7201a8"
             ],
             [
              0.3333333333333333,
              "#9c179e"
             ],
             [
              0.4444444444444444,
              "#bd3786"
             ],
             [
              0.5555555555555556,
              "#d8576b"
             ],
             [
              0.6666666666666666,
              "#ed7953"
             ],
             [
              0.7777777777777778,
              "#fb9f3a"
             ],
             [
              0.8888888888888888,
              "#fdca26"
             ],
             [
              1,
              "#f0f921"
             ]
            ],
            "type": "heatmapgl"
           }
          ],
          "histogram": [
           {
            "marker": {
             "pattern": {
              "fillmode": "overlay",
              "size": 10,
              "solidity": 0.2
             }
            },
            "type": "histogram"
           }
          ],
          "histogram2d": [
           {
            "colorbar": {
             "outlinewidth": 0,
             "ticks": ""
            },
            "colorscale": [
             [
              0,
              "#0d0887"
             ],
             [
              0.1111111111111111,
              "#46039f"
             ],
             [
              0.2222222222222222,
              "#7201a8"
             ],
             [
              0.3333333333333333,
              "#9c179e"
             ],
             [
              0.4444444444444444,
              "#bd3786"
             ],
             [
              0.5555555555555556,
              "#d8576b"
             ],
             [
              0.6666666666666666,
              "#ed7953"
             ],
             [
              0.7777777777777778,
              "#fb9f3a"
             ],
             [
              0.8888888888888888,
              "#fdca26"
             ],
             [
              1,
              "#f0f921"
             ]
            ],
            "type": "histogram2d"
           }
          ],
          "histogram2dcontour": [
           {
            "colorbar": {
             "outlinewidth": 0,
             "ticks": ""
            },
            "colorscale": [
             [
              0,
              "#0d0887"
             ],
             [
              0.1111111111111111,
              "#46039f"
             ],
             [
              0.2222222222222222,
              "#7201a8"
             ],
             [
              0.3333333333333333,
              "#9c179e"
             ],
             [
              0.4444444444444444,
              "#bd3786"
             ],
             [
              0.5555555555555556,
              "#d8576b"
             ],
             [
              0.6666666666666666,
              "#ed7953"
             ],
             [
              0.7777777777777778,
              "#fb9f3a"
             ],
             [
              0.8888888888888888,
              "#fdca26"
             ],
             [
              1,
              "#f0f921"
             ]
            ],
            "type": "histogram2dcontour"
           }
          ],
          "mesh3d": [
           {
            "colorbar": {
             "outlinewidth": 0,
             "ticks": ""
            },
            "type": "mesh3d"
           }
          ],
          "parcoords": [
           {
            "line": {
             "colorbar": {
              "outlinewidth": 0,
              "ticks": ""
             }
            },
            "type": "parcoords"
           }
          ],
          "pie": [
           {
            "automargin": true,
            "type": "pie"
           }
          ],
          "scatter": [
           {
            "fillpattern": {
             "fillmode": "overlay",
             "size": 10,
             "solidity": 0.2
            },
            "type": "scatter"
           }
          ],
          "scatter3d": [
           {
            "line": {
             "colorbar": {
              "outlinewidth": 0,
              "ticks": ""
             }
            },
            "marker": {
             "colorbar": {
              "outlinewidth": 0,
              "ticks": ""
             }
            },
            "type": "scatter3d"
           }
          ],
          "scattercarpet": [
           {
            "marker": {
             "colorbar": {
              "outlinewidth": 0,
              "ticks": ""
             }
            },
            "type": "scattercarpet"
           }
          ],
          "scattergeo": [
           {
            "marker": {
             "colorbar": {
              "outlinewidth": 0,
              "ticks": ""
             }
            },
            "type": "scattergeo"
           }
          ],
          "scattergl": [
           {
            "marker": {
             "colorbar": {
              "outlinewidth": 0,
              "ticks": ""
             }
            },
            "type": "scattergl"
           }
          ],
          "scattermapbox": [
           {
            "marker": {
             "colorbar": {
              "outlinewidth": 0,
              "ticks": ""
             }
            },
            "type": "scattermapbox"
           }
          ],
          "scatterpolar": [
           {
            "marker": {
             "colorbar": {
              "outlinewidth": 0,
              "ticks": ""
             }
            },
            "type": "scatterpolar"
           }
          ],
          "scatterpolargl": [
           {
            "marker": {
             "colorbar": {
              "outlinewidth": 0,
              "ticks": ""
             }
            },
            "type": "scatterpolargl"
           }
          ],
          "scatterternary": [
           {
            "marker": {
             "colorbar": {
              "outlinewidth": 0,
              "ticks": ""
             }
            },
            "type": "scatterternary"
           }
          ],
          "surface": [
           {
            "colorbar": {
             "outlinewidth": 0,
             "ticks": ""
            },
            "colorscale": [
             [
              0,
              "#0d0887"
             ],
             [
              0.1111111111111111,
              "#46039f"
             ],
             [
              0.2222222222222222,
              "#7201a8"
             ],
             [
              0.3333333333333333,
              "#9c179e"
             ],
             [
              0.4444444444444444,
              "#bd3786"
             ],
             [
              0.5555555555555556,
              "#d8576b"
             ],
             [
              0.6666666666666666,
              "#ed7953"
             ],
             [
              0.7777777777777778,
              "#fb9f3a"
             ],
             [
              0.8888888888888888,
              "#fdca26"
             ],
             [
              1,
              "#f0f921"
             ]
            ],
            "type": "surface"
           }
          ],
          "table": [
           {
            "cells": {
             "fill": {
              "color": "#EBF0F8"
             },
             "line": {
              "color": "white"
             }
            },
            "header": {
             "fill": {
              "color": "#C8D4E3"
             },
             "line": {
              "color": "white"
             }
            },
            "type": "table"
           }
          ]
         },
         "layout": {
          "annotationdefaults": {
           "arrowcolor": "#2a3f5f",
           "arrowhead": 0,
           "arrowwidth": 1
          },
          "autotypenumbers": "strict",
          "coloraxis": {
           "colorbar": {
            "outlinewidth": 0,
            "ticks": ""
           }
          },
          "colorscale": {
           "diverging": [
            [
             0,
             "#8e0152"
            ],
            [
             0.1,
             "#c51b7d"
            ],
            [
             0.2,
             "#de77ae"
            ],
            [
             0.3,
             "#f1b6da"
            ],
            [
             0.4,
             "#fde0ef"
            ],
            [
             0.5,
             "#f7f7f7"
            ],
            [
             0.6,
             "#e6f5d0"
            ],
            [
             0.7,
             "#b8e186"
            ],
            [
             0.8,
             "#7fbc41"
            ],
            [
             0.9,
             "#4d9221"
            ],
            [
             1,
             "#276419"
            ]
           ],
           "sequential": [
            [
             0,
             "#0d0887"
            ],
            [
             0.1111111111111111,
             "#46039f"
            ],
            [
             0.2222222222222222,
             "#7201a8"
            ],
            [
             0.3333333333333333,
             "#9c179e"
            ],
            [
             0.4444444444444444,
             "#bd3786"
            ],
            [
             0.5555555555555556,
             "#d8576b"
            ],
            [
             0.6666666666666666,
             "#ed7953"
            ],
            [
             0.7777777777777778,
             "#fb9f3a"
            ],
            [
             0.8888888888888888,
             "#fdca26"
            ],
            [
             1,
             "#f0f921"
            ]
           ],
           "sequentialminus": [
            [
             0,
             "#0d0887"
            ],
            [
             0.1111111111111111,
             "#46039f"
            ],
            [
             0.2222222222222222,
             "#7201a8"
            ],
            [
             0.3333333333333333,
             "#9c179e"
            ],
            [
             0.4444444444444444,
             "#bd3786"
            ],
            [
             0.5555555555555556,
             "#d8576b"
            ],
            [
             0.6666666666666666,
             "#ed7953"
            ],
            [
             0.7777777777777778,
             "#fb9f3a"
            ],
            [
             0.8888888888888888,
             "#fdca26"
            ],
            [
             1,
             "#f0f921"
            ]
           ]
          },
          "colorway": [
           "#636efa",
           "#EF553B",
           "#00cc96",
           "#ab63fa",
           "#FFA15A",
           "#19d3f3",
           "#FF6692",
           "#B6E880",
           "#FF97FF",
           "#FECB52"
          ],
          "font": {
           "color": "#2a3f5f"
          },
          "geo": {
           "bgcolor": "white",
           "lakecolor": "white",
           "landcolor": "#E5ECF6",
           "showlakes": true,
           "showland": true,
           "subunitcolor": "white"
          },
          "hoverlabel": {
           "align": "left"
          },
          "hovermode": "closest",
          "mapbox": {
           "style": "light"
          },
          "paper_bgcolor": "white",
          "plot_bgcolor": "#E5ECF6",
          "polar": {
           "angularaxis": {
            "gridcolor": "white",
            "linecolor": "white",
            "ticks": ""
           },
           "bgcolor": "#E5ECF6",
           "radialaxis": {
            "gridcolor": "white",
            "linecolor": "white",
            "ticks": ""
           }
          },
          "scene": {
           "xaxis": {
            "backgroundcolor": "#E5ECF6",
            "gridcolor": "white",
            "gridwidth": 2,
            "linecolor": "white",
            "showbackground": true,
            "ticks": "",
            "zerolinecolor": "white"
           },
           "yaxis": {
            "backgroundcolor": "#E5ECF6",
            "gridcolor": "white",
            "gridwidth": 2,
            "linecolor": "white",
            "showbackground": true,
            "ticks": "",
            "zerolinecolor": "white"
           },
           "zaxis": {
            "backgroundcolor": "#E5ECF6",
            "gridcolor": "white",
            "gridwidth": 2,
            "linecolor": "white",
            "showbackground": true,
            "ticks": "",
            "zerolinecolor": "white"
           }
          },
          "shapedefaults": {
           "line": {
            "color": "#2a3f5f"
           }
          },
          "ternary": {
           "aaxis": {
            "gridcolor": "white",
            "linecolor": "white",
            "ticks": ""
           },
           "baxis": {
            "gridcolor": "white",
            "linecolor": "white",
            "ticks": ""
           },
           "bgcolor": "#E5ECF6",
           "caxis": {
            "gridcolor": "white",
            "linecolor": "white",
            "ticks": ""
           }
          },
          "title": {
           "x": 0.05
          },
          "xaxis": {
           "automargin": true,
           "gridcolor": "white",
           "linecolor": "white",
           "ticks": "",
           "title": {
            "standoff": 15
           },
           "zerolinecolor": "white",
           "zerolinewidth": 2
          },
          "yaxis": {
           "automargin": true,
           "gridcolor": "white",
           "linecolor": "white",
           "ticks": "",
           "title": {
            "standoff": 15
           },
           "zerolinecolor": "white",
           "zerolinewidth": 2
          }
         }
        },
        "title": {
         "text": "Conteo de valores nulos por columna"
        },
        "xaxis": {
         "anchor": "y",
         "domain": [
          0,
          1
         ],
         "tickangle": -45,
         "title": {
          "text": "Columnas"
         }
        },
        "yaxis": {
         "anchor": "x",
         "domain": [
          0,
          1
         ],
         "title": {
          "text": "Conteo de valores nulos"
         }
        }
       }
      }
     },
     "metadata": {},
     "output_type": "display_data"
    },
    {
     "data": {
      "application/vnd.plotly.v1+json": {
       "config": {
        "plotlyServerURL": "https://plot.ly"
       },
       "data": [
        {
         "marker": {
          "color": "#F2C6AC"
         },
         "name": "Porcentaje de Nulos",
         "type": "bar",
         "x": [
          "lat",
          "long",
          "category",
          "price",
          "rooms",
          "baths",
          "park",
          "ciudad",
          "barrio",
          "area_privada",
          "area_const",
          "admon",
          "Estrato",
          "Estado",
          "Antiguedad",
          "Piso No",
          "Tipo de Apartamento",
          "Sector"
         ],
         "y": [
          14.448194846398877,
          13.796553711314743,
          0,
          0,
          2.6952231981710986,
          0.8061605101672482,
          0.5933797313642668,
          0,
          0.13868747189837186,
          32.51936241759494,
          3.9719078709889875,
          38.54498476970913,
          1.5356946089203274,
          41.91274721516823,
          17.41636005547499,
          39.15419640425815,
          69.58754725823101,
          20.663800036730017
         ]
        },
        {
         "line": {
          "color": "#1F3040"
         },
         "marker": {
          "color": "#1F3040"
         },
         "mode": "lines+markers",
         "name": "Porcentaje de Datos Únicos",
         "type": "scatter",
         "x": [
          "lat",
          "long",
          "category",
          "price",
          "rooms",
          "baths",
          "park",
          "ciudad",
          "barrio",
          "area_privada",
          "area_const",
          "admon",
          "Estrato",
          "Estado",
          "Antiguedad",
          "Piso No",
          "Tipo de Apartamento",
          "Sector"
         ],
         "y": [
          45.97204719173701,
          25.17652572050991,
          0.0018998283821694774,
          2.576800562349201,
          0.004432932891728781,
          0.004432932891728781,
          0.0037996567643389548,
          0.005066209019118606,
          3.558378559803431,
          0.5148534915679284,
          1.4843992426017516,
          3.0713892178406548,
          0.0037996567643389548,
          0.0018998283821694774,
          0.003166380636949129,
          0.010132418038237213,
          0.005066209019118606,
          0.5990792165107752
         ]
        }
       ],
       "layout": {
        "legend": {
         "x": 0,
         "y": 1
        },
        "template": {
         "data": {
          "bar": [
           {
            "error_x": {
             "color": "#2a3f5f"
            },
            "error_y": {
             "color": "#2a3f5f"
            },
            "marker": {
             "line": {
              "color": "#E5ECF6",
              "width": 0.5
             },
             "pattern": {
              "fillmode": "overlay",
              "size": 10,
              "solidity": 0.2
             }
            },
            "type": "bar"
           }
          ],
          "barpolar": [
           {
            "marker": {
             "line": {
              "color": "#E5ECF6",
              "width": 0.5
             },
             "pattern": {
              "fillmode": "overlay",
              "size": 10,
              "solidity": 0.2
             }
            },
            "type": "barpolar"
           }
          ],
          "carpet": [
           {
            "aaxis": {
             "endlinecolor": "#2a3f5f",
             "gridcolor": "white",
             "linecolor": "white",
             "minorgridcolor": "white",
             "startlinecolor": "#2a3f5f"
            },
            "baxis": {
             "endlinecolor": "#2a3f5f",
             "gridcolor": "white",
             "linecolor": "white",
             "minorgridcolor": "white",
             "startlinecolor": "#2a3f5f"
            },
            "type": "carpet"
           }
          ],
          "choropleth": [
           {
            "colorbar": {
             "outlinewidth": 0,
             "ticks": ""
            },
            "type": "choropleth"
           }
          ],
          "contour": [
           {
            "colorbar": {
             "outlinewidth": 0,
             "ticks": ""
            },
            "colorscale": [
             [
              0,
              "#0d0887"
             ],
             [
              0.1111111111111111,
              "#46039f"
             ],
             [
              0.2222222222222222,
              "#7201a8"
             ],
             [
              0.3333333333333333,
              "#9c179e"
             ],
             [
              0.4444444444444444,
              "#bd3786"
             ],
             [
              0.5555555555555556,
              "#d8576b"
             ],
             [
              0.6666666666666666,
              "#ed7953"
             ],
             [
              0.7777777777777778,
              "#fb9f3a"
             ],
             [
              0.8888888888888888,
              "#fdca26"
             ],
             [
              1,
              "#f0f921"
             ]
            ],
            "type": "contour"
           }
          ],
          "contourcarpet": [
           {
            "colorbar": {
             "outlinewidth": 0,
             "ticks": ""
            },
            "type": "contourcarpet"
           }
          ],
          "heatmap": [
           {
            "colorbar": {
             "outlinewidth": 0,
             "ticks": ""
            },
            "colorscale": [
             [
              0,
              "#0d0887"
             ],
             [
              0.1111111111111111,
              "#46039f"
             ],
             [
              0.2222222222222222,
              "#7201a8"
             ],
             [
              0.3333333333333333,
              "#9c179e"
             ],
             [
              0.4444444444444444,
              "#bd3786"
             ],
             [
              0.5555555555555556,
              "#d8576b"
             ],
             [
              0.6666666666666666,
              "#ed7953"
             ],
             [
              0.7777777777777778,
              "#fb9f3a"
             ],
             [
              0.8888888888888888,
              "#fdca26"
             ],
             [
              1,
              "#f0f921"
             ]
            ],
            "type": "heatmap"
           }
          ],
          "heatmapgl": [
           {
            "colorbar": {
             "outlinewidth": 0,
             "ticks": ""
            },
            "colorscale": [
             [
              0,
              "#0d0887"
             ],
             [
              0.1111111111111111,
              "#46039f"
             ],
             [
              0.2222222222222222,
              "#7201a8"
             ],
             [
              0.3333333333333333,
              "#9c179e"
             ],
             [
              0.4444444444444444,
              "#bd3786"
             ],
             [
              0.5555555555555556,
              "#d8576b"
             ],
             [
              0.6666666666666666,
              "#ed7953"
             ],
             [
              0.7777777777777778,
              "#fb9f3a"
             ],
             [
              0.8888888888888888,
              "#fdca26"
             ],
             [
              1,
              "#f0f921"
             ]
            ],
            "type": "heatmapgl"
           }
          ],
          "histogram": [
           {
            "marker": {
             "pattern": {
              "fillmode": "overlay",
              "size": 10,
              "solidity": 0.2
             }
            },
            "type": "histogram"
           }
          ],
          "histogram2d": [
           {
            "colorbar": {
             "outlinewidth": 0,
             "ticks": ""
            },
            "colorscale": [
             [
              0,
              "#0d0887"
             ],
             [
              0.1111111111111111,
              "#46039f"
             ],
             [
              0.2222222222222222,
              "#7201a8"
             ],
             [
              0.3333333333333333,
              "#9c179e"
             ],
             [
              0.4444444444444444,
              "#bd3786"
             ],
             [
              0.5555555555555556,
              "#d8576b"
             ],
             [
              0.6666666666666666,
              "#ed7953"
             ],
             [
              0.7777777777777778,
              "#fb9f3a"
             ],
             [
              0.8888888888888888,
              "#fdca26"
             ],
             [
              1,
              "#f0f921"
             ]
            ],
            "type": "histogram2d"
           }
          ],
          "histogram2dcontour": [
           {
            "colorbar": {
             "outlinewidth": 0,
             "ticks": ""
            },
            "colorscale": [
             [
              0,
              "#0d0887"
             ],
             [
              0.1111111111111111,
              "#46039f"
             ],
             [
              0.2222222222222222,
              "#7201a8"
             ],
             [
              0.3333333333333333,
              "#9c179e"
             ],
             [
              0.4444444444444444,
              "#bd3786"
             ],
             [
              0.5555555555555556,
              "#d8576b"
             ],
             [
              0.6666666666666666,
              "#ed7953"
             ],
             [
              0.7777777777777778,
              "#fb9f3a"
             ],
             [
              0.8888888888888888,
              "#fdca26"
             ],
             [
              1,
              "#f0f921"
             ]
            ],
            "type": "histogram2dcontour"
           }
          ],
          "mesh3d": [
           {
            "colorbar": {
             "outlinewidth": 0,
             "ticks": ""
            },
            "type": "mesh3d"
           }
          ],
          "parcoords": [
           {
            "line": {
             "colorbar": {
              "outlinewidth": 0,
              "ticks": ""
             }
            },
            "type": "parcoords"
           }
          ],
          "pie": [
           {
            "automargin": true,
            "type": "pie"
           }
          ],
          "scatter": [
           {
            "fillpattern": {
             "fillmode": "overlay",
             "size": 10,
             "solidity": 0.2
            },
            "type": "scatter"
           }
          ],
          "scatter3d": [
           {
            "line": {
             "colorbar": {
              "outlinewidth": 0,
              "ticks": ""
             }
            },
            "marker": {
             "colorbar": {
              "outlinewidth": 0,
              "ticks": ""
             }
            },
            "type": "scatter3d"
           }
          ],
          "scattercarpet": [
           {
            "marker": {
             "colorbar": {
              "outlinewidth": 0,
              "ticks": ""
             }
            },
            "type": "scattercarpet"
           }
          ],
          "scattergeo": [
           {
            "marker": {
             "colorbar": {
              "outlinewidth": 0,
              "ticks": ""
             }
            },
            "type": "scattergeo"
           }
          ],
          "scattergl": [
           {
            "marker": {
             "colorbar": {
              "outlinewidth": 0,
              "ticks": ""
             }
            },
            "type": "scattergl"
           }
          ],
          "scattermapbox": [
           {
            "marker": {
             "colorbar": {
              "outlinewidth": 0,
              "ticks": ""
             }
            },
            "type": "scattermapbox"
           }
          ],
          "scatterpolar": [
           {
            "marker": {
             "colorbar": {
              "outlinewidth": 0,
              "ticks": ""
             }
            },
            "type": "scatterpolar"
           }
          ],
          "scatterpolargl": [
           {
            "marker": {
             "colorbar": {
              "outlinewidth": 0,
              "ticks": ""
             }
            },
            "type": "scatterpolargl"
           }
          ],
          "scatterternary": [
           {
            "marker": {
             "colorbar": {
              "outlinewidth": 0,
              "ticks": ""
             }
            },
            "type": "scatterternary"
           }
          ],
          "surface": [
           {
            "colorbar": {
             "outlinewidth": 0,
             "ticks": ""
            },
            "colorscale": [
             [
              0,
              "#0d0887"
             ],
             [
              0.1111111111111111,
              "#46039f"
             ],
             [
              0.2222222222222222,
              "#7201a8"
             ],
             [
              0.3333333333333333,
              "#9c179e"
             ],
             [
              0.4444444444444444,
              "#bd3786"
             ],
             [
              0.5555555555555556,
              "#d8576b"
             ],
             [
              0.6666666666666666,
              "#ed7953"
             ],
             [
              0.7777777777777778,
              "#fb9f3a"
             ],
             [
              0.8888888888888888,
              "#fdca26"
             ],
             [
              1,
              "#f0f921"
             ]
            ],
            "type": "surface"
           }
          ],
          "table": [
           {
            "cells": {
             "fill": {
              "color": "#EBF0F8"
             },
             "line": {
              "color": "white"
             }
            },
            "header": {
             "fill": {
              "color": "#C8D4E3"
             },
             "line": {
              "color": "white"
             }
            },
            "type": "table"
           }
          ]
         },
         "layout": {
          "annotationdefaults": {
           "arrowcolor": "#2a3f5f",
           "arrowhead": 0,
           "arrowwidth": 1
          },
          "autotypenumbers": "strict",
          "coloraxis": {
           "colorbar": {
            "outlinewidth": 0,
            "ticks": ""
           }
          },
          "colorscale": {
           "diverging": [
            [
             0,
             "#8e0152"
            ],
            [
             0.1,
             "#c51b7d"
            ],
            [
             0.2,
             "#de77ae"
            ],
            [
             0.3,
             "#f1b6da"
            ],
            [
             0.4,
             "#fde0ef"
            ],
            [
             0.5,
             "#f7f7f7"
            ],
            [
             0.6,
             "#e6f5d0"
            ],
            [
             0.7,
             "#b8e186"
            ],
            [
             0.8,
             "#7fbc41"
            ],
            [
             0.9,
             "#4d9221"
            ],
            [
             1,
             "#276419"
            ]
           ],
           "sequential": [
            [
             0,
             "#0d0887"
            ],
            [
             0.1111111111111111,
             "#46039f"
            ],
            [
             0.2222222222222222,
             "#7201a8"
            ],
            [
             0.3333333333333333,
             "#9c179e"
            ],
            [
             0.4444444444444444,
             "#bd3786"
            ],
            [
             0.5555555555555556,
             "#d8576b"
            ],
            [
             0.6666666666666666,
             "#ed7953"
            ],
            [
             0.7777777777777778,
             "#fb9f3a"
            ],
            [
             0.8888888888888888,
             "#fdca26"
            ],
            [
             1,
             "#f0f921"
            ]
           ],
           "sequentialminus": [
            [
             0,
             "#0d0887"
            ],
            [
             0.1111111111111111,
             "#46039f"
            ],
            [
             0.2222222222222222,
             "#7201a8"
            ],
            [
             0.3333333333333333,
             "#9c179e"
            ],
            [
             0.4444444444444444,
             "#bd3786"
            ],
            [
             0.5555555555555556,
             "#d8576b"
            ],
            [
             0.6666666666666666,
             "#ed7953"
            ],
            [
             0.7777777777777778,
             "#fb9f3a"
            ],
            [
             0.8888888888888888,
             "#fdca26"
            ],
            [
             1,
             "#f0f921"
            ]
           ]
          },
          "colorway": [
           "#636efa",
           "#EF553B",
           "#00cc96",
           "#ab63fa",
           "#FFA15A",
           "#19d3f3",
           "#FF6692",
           "#B6E880",
           "#FF97FF",
           "#FECB52"
          ],
          "font": {
           "color": "#2a3f5f"
          },
          "geo": {
           "bgcolor": "white",
           "lakecolor": "white",
           "landcolor": "#E5ECF6",
           "showlakes": true,
           "showland": true,
           "subunitcolor": "white"
          },
          "hoverlabel": {
           "align": "left"
          },
          "hovermode": "closest",
          "mapbox": {
           "style": "light"
          },
          "paper_bgcolor": "white",
          "plot_bgcolor": "#E5ECF6",
          "polar": {
           "angularaxis": {
            "gridcolor": "white",
            "linecolor": "white",
            "ticks": ""
           },
           "bgcolor": "#E5ECF6",
           "radialaxis": {
            "gridcolor": "white",
            "linecolor": "white",
            "ticks": ""
           }
          },
          "scene": {
           "xaxis": {
            "backgroundcolor": "#E5ECF6",
            "gridcolor": "white",
            "gridwidth": 2,
            "linecolor": "white",
            "showbackground": true,
            "ticks": "",
            "zerolinecolor": "white"
           },
           "yaxis": {
            "backgroundcolor": "#E5ECF6",
            "gridcolor": "white",
            "gridwidth": 2,
            "linecolor": "white",
            "showbackground": true,
            "ticks": "",
            "zerolinecolor": "white"
           },
           "zaxis": {
            "backgroundcolor": "#E5ECF6",
            "gridcolor": "white",
            "gridwidth": 2,
            "linecolor": "white",
            "showbackground": true,
            "ticks": "",
            "zerolinecolor": "white"
           }
          },
          "shapedefaults": {
           "line": {
            "color": "#2a3f5f"
           }
          },
          "ternary": {
           "aaxis": {
            "gridcolor": "white",
            "linecolor": "white",
            "ticks": ""
           },
           "baxis": {
            "gridcolor": "white",
            "linecolor": "white",
            "ticks": ""
           },
           "bgcolor": "#E5ECF6",
           "caxis": {
            "gridcolor": "white",
            "linecolor": "white",
            "ticks": ""
           }
          },
          "title": {
           "x": 0.05
          },
          "xaxis": {
           "automargin": true,
           "gridcolor": "white",
           "linecolor": "white",
           "ticks": "",
           "title": {
            "standoff": 15
           },
           "zerolinecolor": "white",
           "zerolinewidth": 2
          },
          "yaxis": {
           "automargin": true,
           "gridcolor": "white",
           "linecolor": "white",
           "ticks": "",
           "title": {
            "standoff": 15
           },
           "zerolinecolor": "white",
           "zerolinewidth": 2
          }
         }
        },
        "title": {
         "text": "Porcentaje de valores nulos y únicos por columna"
        },
        "xaxis": {
         "tickangle": -45,
         "title": {
          "text": "Columnas"
         }
        },
        "yaxis": {
         "tickfont": {
          "size": 14
         },
         "title": {
          "font": {
           "size": 16
          },
          "text": "Porcentaje (%)"
         }
        }
       }
      }
     },
     "metadata": {},
     "output_type": "display_data"
    }
   ],
   "source": [
    "# Gráfico para el conteo de valores nulos con la paleta de colores especificada\n",
    "colors = ['#F2C6AC', '#1F3040', '#B9CDCA','#D99982', '#735749']  # Definir la paleta de colores\n",
    "fig_conteo = px.bar(analisis_nulos, x=analisis_nulos.index, y='Conteo', title='Conteo de valores nulos por columna',\n",
    "                    color_discrete_sequence=colors)\n",
    "fig_conteo.update_layout(xaxis_title='Columnas', yaxis_title='Conteo de valores nulos', xaxis_tickangle=-45)\n",
    "fig_conteo.show()\n",
    "\n",
    "# Gráfico para el porcentaje de valores nulos\n",
    "fig = go.Figure()\n",
    "\n",
    "# Agregar las barras para el porcentaje de valores nulos\n",
    "fig.add_trace(go.Bar(\n",
    "    x=analisis_nulos.index,\n",
    "    y=analisis_nulos['Porcentaje'],\n",
    "    name='Porcentaje de Nulos',\n",
    "    marker_color=colors[0]  # Asignar el primer color de la paleta\n",
    "))\n",
    "\n",
    "# Agregar una línea para el porcentaje de datos únicos\n",
    "fig.add_trace(go.Scatter(\n",
    "    x=analisis_nulos.index,\n",
    "    y=analisis_nulos['Porcentaje_Unicos'],\n",
    "    name='Porcentaje de Datos Únicos',\n",
    "    mode='lines+markers',\n",
    "    line=dict(color=colors[1]),  # Asignar el segundo color de la paleta\n",
    "    marker=dict(color=colors[1])  # Usar otro color para los marcadores\n",
    "))\n",
    "\n",
    "# Actualizar el layout para incluir título y nombres de ejes\n",
    "fig.update_layout(\n",
    "    title='Porcentaje de valores nulos y únicos por columna',\n",
    "    xaxis_title='Columnas',\n",
    "    yaxis_title='Porcentaje (%)',\n",
    "    xaxis_tickangle=-45,\n",
    "    yaxis=dict(\n",
    "        title='Porcentaje (%)',\n",
    "        titlefont_size=16,\n",
    "        tickfont_size=14,\n",
    "    ),\n",
    "    legend=dict(\n",
    "        x=0,\n",
    "        y=1.0,\n",
    "    )\n",
    ")\n",
    "\n",
    "# Mostrar el gráfico\n",
    "fig.show()"
   ]
  },
  {
   "cell_type": "code",
   "execution_count": 8,
   "metadata": {},
   "outputs": [
    {
     "data": {
      "image/png": "[encoded data removed]",
      "text/plain": [
       "<Figure size 1200x600 with 1 Axes>"
      ]
     },
     "metadata": {},
     "output_type": "display_data"
    }
   ],
   "source": [
    "# Mapa de calor de datos faltantes\n",
    "plt.figure(figsize=(12, 6))\n",
    "sns.heatmap(ventas.isnull(), cbar=False, cmap=custom_colors)\n",
    "plt.title('Mapa de calor de datos faltantes')\n",
    "plt.xticks(rotation=45, ha='right', fontsize=12)\n",
    "plt.yticks(fontsize=12)\n",
    "plt.show()"
   ]
  },
  {
   "cell_type": "code",
   "execution_count": 9,
   "metadata": {},
   "outputs": [
    {
     "data": {
      "image/png": "[encoded data removed]",
      "text/plain": [
       "<Figure size 1200x600 with 1 Axes>"
      ]
     },
     "metadata": {},
     "output_type": "display_data"
    }
   ],
   "source": [
    "# Establecer estilo de gráfico\n",
    "plt.style.use('ggplot')\n",
    "\n",
    "# Crear el dendrograma de datos faltantes\n",
    "msno.dendrogram(ventas, figsize=(12, 6))\n",
    "\n",
    "# Personalizar el gráfico\n",
    "plt.title('Dendrograma de datos faltantes', fontsize=16)\n",
    "plt.ylabel('Número de datos faltantes', fontsize=14)\n",
    "plt.xlabel('Columnas', fontsize=14)\n",
    "plt.xticks(fontsize=12)\n",
    "plt.yticks(fontsize=12)\n",
    "\n",
    "# Mostrar el gráfico\n",
    "plt.show()"
   ]
  },
  {
   "cell_type": "markdown",
   "metadata": {},
   "source": [
    "### Imputación/eliminación de datos nulos"
   ]
  },
  {
   "cell_type": "markdown",
   "metadata": {},
   "source": [
    "#### Eliminación:"
   ]
  },
  {
   "cell_type": "code",
   "execution_count": 10,
   "metadata": {},
   "outputs": [],
   "source": [
    "# Eliminar filas donde 'price' es nulo\n",
    "ventas = ventas.dropna(subset=['price'])"
   ]
  },
  {
   "cell_type": "code",
   "execution_count": 11,
   "metadata": {},
   "outputs": [],
   "source": [
    "# Eliminar filas donde 'barrio' es nulo\n",
    "ventas = ventas.dropna(subset=['barrio'])"
   ]
  },
  {
   "cell_type": "markdown",
   "metadata": {},
   "source": [
    "#### Imputación de acuerdo con otras columnas:"
   ]
  },
  {
   "cell_type": "code",
   "execution_count": 12,
   "metadata": {},
   "outputs": [],
   "source": [
    "# Actualizar 'area_privada' con los valores de 'area_const' cuando 'area_privada' es nula\n",
    "ventas['area_privada'] = ventas['area_privada'].fillna(ventas['area_const'])"
   ]
  },
  {
   "cell_type": "code",
   "execution_count": 13,
   "metadata": {},
   "outputs": [],
   "source": [
    "# Asignar el valor 1 a 'Piso No' donde la categoría es 'casa' y 'Piso No' es nulo\n",
    "ventas.loc[(ventas['category'] == 'Casa') & (ventas['Piso No'].isnull()), 'Piso No'] = 1"
   ]
  },
  {
   "cell_type": "code",
   "execution_count": 14,
   "metadata": {},
   "outputs": [],
   "source": [
    "ventas.loc[(ventas['category'] == 'Casa') & (ventas['Tipo de Apartamento'].isnull()), 'Tipo de Apartamento'] = 'No Aplica'"
   ]
  },
  {
   "cell_type": "markdown",
   "metadata": {},
   "source": [
    "#### Imputación de acuerdo con la misma columna:"
   ]
  },
  {
   "cell_type": "code",
   "execution_count": 15,
   "metadata": {},
   "outputs": [],
   "source": [
    "# Rellenar valores nulos en la columna 'Sector' con 'No Especificado'\n",
    "ventas['Sector'] = ventas['Sector'].fillna('No Especificado')"
   ]
  },
  {
   "cell_type": "code",
   "execution_count": 16,
   "metadata": {},
   "outputs": [],
   "source": [
    "# Rellenar valores nulos en la columna 'Tipo de Apartamento' con 'No Especificado'\n",
    "ventas['Tipo de Apartamento'] = ventas['Tipo de Apartamento'].fillna('No Especificado')"
   ]
  },
  {
   "cell_type": "code",
   "execution_count": 17,
   "metadata": {},
   "outputs": [
    {
     "name": "stderr",
     "output_type": "stream",
     "text": [
      "C:\\Users\\Linda Herrera\\AppData\\Local\\Temp\\ipykernel_16712\\2807709208.py:2: DeprecationWarning:\n",
      "\n",
      "is_categorical_dtype is deprecated and will be removed in a future version. Use isinstance(dtype, pd.CategoricalDtype) instead\n",
      "\n"
     ]
    }
   ],
   "source": [
    "# Asegurarse de que 'Antiguedad' es una columna categórica\n",
    "if not pd.api.types.is_categorical_dtype(ventas['Antiguedad']):\n",
    "    ventas['Antiguedad'] = ventas['Antiguedad'].astype('category')\n",
    "\n",
    "# Agregar 'No Especificado' a las categorías de la columna 'Antiguedad'\n",
    "if 'No Especificado' not in ventas['Antiguedad'].cat.categories:\n",
    "    ventas['Antiguedad'] = ventas['Antiguedad'].cat.add_categories('No Especificado')\n",
    "\n",
    "# Rellenar valores nulos en la columna 'Antiguedad' con 'No Especificado'\n",
    "ventas['Antiguedad'] = ventas['Antiguedad'].fillna('No Especificado')"
   ]
  },
  {
   "cell_type": "code",
   "execution_count": 18,
   "metadata": {},
   "outputs": [
    {
     "name": "stderr",
     "output_type": "stream",
     "text": [
      "C:\\Users\\Linda Herrera\\AppData\\Local\\Temp\\ipykernel_16712\\1416482886.py:2: DeprecationWarning:\n",
      "\n",
      "is_categorical_dtype is deprecated and will be removed in a future version. Use isinstance(dtype, pd.CategoricalDtype) instead\n",
      "\n"
     ]
    }
   ],
   "source": [
    "# Asegurarse de que 'Estado' es una columna categórica\n",
    "if not pd.api.types.is_categorical_dtype(ventas['Estado']):\n",
    "    ventas['Estado'] = ventas['Estado'].astype('category')\n",
    "\n",
    "# Agregar 'No Especificado' a las categorías de la columna 'Estado'\n",
    "if 'No Especificado' not in ventas['Estado'].cat.categories:\n",
    "    ventas['Estado'] = ventas['Estado'].cat.add_categories('No Especificado')\n",
    "\n",
    "# Rellenar valores nulos en la columna 'Estado' con 'No Especificado'\n",
    "ventas['Estado'] = ventas['Estado'].fillna('No Especificado')"
   ]
  },
  {
   "cell_type": "code",
   "execution_count": 19,
   "metadata": {},
   "outputs": [
    {
     "name": "stdout",
     "output_type": "stream",
     "text": [
      "                     Conteo  Porcentaje  Porcentaje_Unicos\n",
      "lat                   22710   14.401674          45.994673\n",
      "long                  21697   13.759275          25.193100\n",
      "category                  0    0.000000           0.001902\n",
      "price                     0    0.000000           2.570233\n",
      "rooms                  4246    2.692625           0.004439\n",
      "baths                  1272    0.806646           0.004439\n",
      "park                    937    0.594204           0.003805\n",
      "ciudad                    0    0.000000           0.004439\n",
      "barrio                    0    0.000000           3.563320\n",
      "area_privada           5512    3.495466           1.038747\n",
      "area_const             6260    3.969814           1.485827\n",
      "admon                 60725   38.509100           3.071850\n",
      "Estrato                2345    1.487095           0.003805\n",
      "Estado                    0    0.000000           0.002537\n",
      "Antiguedad                0    0.000000           0.003805\n",
      "Piso No               43286   27.450060           0.010146\n",
      "Tipo de Apartamento       0    0.000000           0.005707\n",
      "Sector                    0    0.000000           0.600545\n"
     ]
    }
   ],
   "source": [
    "# DataFrame para el análisis de datos nulos y datos únicos\n",
    "analisis_nulos = pd.DataFrame({\n",
    "    'Conteo': ventas.isnull().sum(),  # Conteo de valores nulos\n",
    "    'Porcentaje': (ventas.isnull().sum() / len(ventas)) * 100,  # Porcentaje de valores nulos\n",
    "    'Porcentaje_Unicos': (ventas.nunique() / len(ventas)) * 100  # Porcentaje de valores únicos\n",
    "})\n",
    "\n",
    "print(analisis_nulos)"
   ]
  },
  {
   "cell_type": "code",
   "execution_count": 20,
   "metadata": {},
   "outputs": [
    {
     "data": {
      "image/png": "[encoded data removed]",
      "text/plain": [
       "<Figure size 1200x600 with 1 Axes>"
      ]
     },
     "metadata": {},
     "output_type": "display_data"
    }
   ],
   "source": [
    "# Establecer estilo de gráfico\n",
    "plt.style.use('ggplot')\n",
    "\n",
    "# Crear el dendrograma de datos faltantes\n",
    "msno.dendrogram(ventas, figsize=(12, 6))\n",
    "\n",
    "# Personalizar el gráfico\n",
    "plt.title('Dendrograma de datos faltantes', fontsize=16)\n",
    "plt.ylabel('Número de datos faltantes', fontsize=14)\n",
    "plt.xlabel('Columnas', fontsize=14)\n",
    "plt.xticks(fontsize=12)\n",
    "plt.yticks(fontsize=12)\n",
    "\n",
    "# Mostrar el gráfico\n",
    "plt.show()"
   ]
  },
  {
   "cell_type": "markdown",
   "metadata": {},
   "source": [
    "## Imputación usando IterativeImputer"
   ]
  },
  {
   "cell_type": "code",
   "execution_count": 21,
   "metadata": {},
   "outputs": [
    {
     "name": "stdout",
     "output_type": "stream",
     "text": [
      "<class 'pandas.core.frame.DataFrame'>\n",
      "Index: 157690 entries, 0 to 157908\n",
      "Data columns (total 18 columns):\n",
      " #   Column               Non-Null Count   Dtype   \n",
      "---  ------               --------------   -----   \n",
      " 0   lat                  134980 non-null  float64 \n",
      " 1   long                 135993 non-null  float64 \n",
      " 2   category             157690 non-null  object  \n",
      " 3   price                157690 non-null  float64 \n",
      " 4   rooms                157690 non-null  float64 \n",
      " 5   baths                157690 non-null  float64 \n",
      " 6   park                 157690 non-null  float64 \n",
      " 7   ciudad               157690 non-null  object  \n",
      " 8   barrio               157690 non-null  object  \n",
      " 9   area_privada         157690 non-null  float64 \n",
      " 10  area_const           157690 non-null  float64 \n",
      " 11  admon                157690 non-null  float64 \n",
      " 12  Estrato              157690 non-null  float64 \n",
      " 13  Estado               157690 non-null  category\n",
      " 14  Antiguedad           157690 non-null  category\n",
      " 15  Piso No              114404 non-null  float64 \n",
      " 16  Tipo de Apartamento  157690 non-null  object  \n",
      " 17  Sector               157690 non-null  object  \n",
      "dtypes: category(2), float64(11), object(5)\n",
      "memory usage: 20.8+ MB\n",
      "None\n"
     ]
    }
   ],
   "source": [
    "# Define which columns are numeric and which are categorical\n",
    "numeric_features = ['rooms', 'baths', 'park', 'area_const', 'area_privada', 'admon', 'price', 'Estrato']\n",
    "categorical_features = ['category', 'ciudad', 'Antiguedad', 'Tipo de Apartamento']\n",
    "\n",
    "# Define transformers\n",
    "numeric_transformer = Pipeline([\n",
    "    ('imputer', IterativeImputer(random_state=0)),\n",
    "    ('scaler', MinMaxScaler())\n",
    "])\n",
    "\n",
    "categorical_transformer = Pipeline([\n",
    "    ('encoder', OneHotEncoder(handle_unknown='ignore'))\n",
    "])\n",
    "\n",
    "# Combine processing\n",
    "preprocessor = ColumnTransformer(\n",
    "    transformers=[\n",
    "        ('num', numeric_transformer, numeric_features),\n",
    "        ('cat', categorical_transformer, categorical_features)\n",
    "    ])\n",
    "\n",
    "# Setup the pipeline\n",
    "pipeline = Pipeline([\n",
    "    ('preprocessor', preprocessor)\n",
    "])\n",
    "\n",
    "# Fit the data\n",
    "pipeline.fit(ventas)\n",
    "\n",
    "# Transform the data\n",
    "X_transformed = pipeline.transform(ventas)\n",
    "\n",
    "# Get the scaler from the pipeline\n",
    "scaler = pipeline.named_steps['preprocessor'].named_transformers_['num'].named_steps['scaler']\n",
    "\n",
    "# Inverse transform the scaled numeric data\n",
    "numeric_data = scaler.inverse_transform(\n",
    "    X_transformed[:, :len(numeric_features)]\n",
    ")\n",
    "\n",
    "# Extract categorical data after encoding\n",
    "categorical_data = X_transformed[:, len(numeric_features):]\n",
    "\n",
    "# Combine all transformed features\n",
    "all_features = numeric_features + list(pipeline.named_steps['preprocessor'].named_transformers_['cat'].named_steps['encoder'].get_feature_names_out())\n",
    "imputed_data = pd.DataFrame(\n",
    "    np.hstack([numeric_data, categorical_data]),\n",
    "    columns=all_features,\n",
    "    index=ventas.index\n",
    ")\n",
    "\n",
    "# Update the ventas DataFrame with the numeric data\n",
    "ventas.update(imputed_data[numeric_features])\n",
    "\n",
    "print(ventas.info())"
   ]
  },
  {
   "cell_type": "markdown",
   "metadata": {},
   "source": [
    "## Imputación datos referentes a locación"
   ]
  },
  {
   "cell_type": "code",
   "execution_count": 22,
   "metadata": {},
   "outputs": [],
   "source": [
    "# Calcular los promedios por ciudad, barrio, y sector\n",
    "promedios_ciudad_barrio_sector = ventas.groupby(['ciudad', 'barrio', 'Sector'])[['lat', 'long']].mean().reset_index()\n",
    "promedios_ciudad_barrio = ventas.groupby(['ciudad', 'barrio'])[['lat', 'long']].mean().reset_index()\n",
    "promedios_ciudad = ventas.groupby('ciudad')[['lat', 'long']].mean().reset_index()\n",
    "\n",
    "# Definir una función para imputar lat y long basada en los promedios calculados\n",
    "def imputar_lat_long(row):\n",
    "    if pd.isnull(row['lat']) or pd.isnull(row['long']):\n",
    "        # Intentar imputar con ciudad, barrio, y sector\n",
    "        mask = (promedios_ciudad_barrio_sector['ciudad'] == row['ciudad']) & \\\n",
    "               (promedios_ciudad_barrio_sector['barrio'] == row['barrio']) & \\\n",
    "               (promedios_ciudad_barrio_sector['Sector'] == row['Sector'])\n",
    "        result = promedios_ciudad_barrio_sector[mask]\n",
    "        if not result.empty:\n",
    "            row['lat'] = result['lat'].values[0] if pd.isnull(row['lat']) else row['lat']\n",
    "            row['long'] = result['long'].values[0] if pd.isnull(row['long']) else row['long']\n",
    "        else:\n",
    "            # Intentar imputar con ciudad y barrio\n",
    "            mask = (promedios_ciudad_barrio['ciudad'] == row['ciudad']) & \\\n",
    "                   (promedios_ciudad_barrio['barrio'] == row['barrio'])\n",
    "            result = promedios_ciudad_barrio[mask]\n",
    "            if not result.empty:\n",
    "                row['lat'] = result['lat'].values[0] if pd.isnull(row['lat']) else row['lat']\n",
    "                row['long'] = result['long'].values[0] if pd.isnull(row['long']) else row['long']\n",
    "            else:\n",
    "                # Intentar imputar solo con ciudad\n",
    "                mask = (promedios_ciudad['ciudad'] == row['ciudad'])\n",
    "                result = promedios_ciudad[mask]\n",
    "                if not result.empty:\n",
    "                    row['lat'] = result['lat'].values[0] if pd.isnull(row['lat']) else row['lat']\n",
    "                    row['long'] = result['long'].values[0] if pd.isnull(row['long']) else row['long']\n",
    "    return row\n",
    "\n",
    "# Aplicar la función a cada fila del DataFrame\n",
    "ventas = ventas.apply(imputar_lat_long, axis=1)"
   ]
  },
  {
   "cell_type": "code",
   "execution_count": 23,
   "metadata": {},
   "outputs": [],
   "source": [
    "# Eliminar filas donde 'lat' o 'long' tienen valores NaN (vacíos)\n",
    "ventas = ventas.dropna(subset=['lat', 'long'])"
   ]
  },
  {
   "cell_type": "code",
   "execution_count": 24,
   "metadata": {},
   "outputs": [
    {
     "name": "stdout",
     "output_type": "stream",
     "text": [
      "                     Conteo  Porcentaje  Porcentaje_Unicos\n",
      "lat                       0    0.000000          48.153831\n",
      "long                      0    0.000000          26.973985\n",
      "category                  0    0.000000           0.001934\n",
      "price                     0    0.000000           2.585345\n",
      "rooms                     0    0.000000           2.490571\n",
      "baths                     0    0.000000           0.759486\n",
      "park                      0    0.000000           0.542213\n",
      "ciudad                    0    0.000000           0.004513\n",
      "barrio                    0    0.000000           3.043745\n",
      "area_privada              0    0.000000           3.953451\n",
      "area_const                0    0.000000           4.872828\n",
      "admon                     0    0.000000          36.580381\n",
      "Estrato                   0    0.000000           1.158570\n",
      "Estado                    0    0.000000           0.002579\n",
      "Antiguedad                0    0.000000           0.003868\n",
      "Piso No               42596   27.462687           0.010316\n",
      "Tipo de Apartamento       0    0.000000           0.005803\n",
      "Sector                    0    0.000000           0.597015\n"
     ]
    }
   ],
   "source": [
    "# DataFrame para el análisis de datos nulos incluyendo el porcentaje de datos únicos\n",
    "analisis_nulos = pd.DataFrame({\n",
    "    'Conteo': ventas.isnull().sum(),  # Conteo de valores nulos\n",
    "    'Porcentaje': (ventas.isnull().sum() / len(ventas)) * 100,  # Porcentaje de valores nulos\n",
    "    'Porcentaje_Unicos': (ventas.nunique() / len(ventas)) * 100  # Porcentaje de valores únicos\n",
    "})\n",
    "\n",
    "print(analisis_nulos)"
   ]
  },
  {
   "cell_type": "code",
   "execution_count": 25,
   "metadata": {},
   "outputs": [
    {
     "data": {
      "application/vnd.plotly.v1+json": {
       "config": {
        "plotlyServerURL": "https://plot.ly"
       },
       "data": [
        {
         "alignmentgroup": "True",
         "hovertemplate": "index=%{x}<br>Conteo=%{y}<extra></extra>",
         "legendgroup": "",
         "marker": {
          "color": "#F2C6AC",
          "pattern": {
           "shape": ""
          }
         },
         "name": "",
         "offsetgroup": "",
         "orientation": "v",
         "showlegend": false,
         "textposition": "auto",
         "type": "bar",
         "x": [
          "lat",
          "long",
          "category",
          "price",
          "rooms",
          "baths",
          "park",
          "ciudad",
          "barrio",
          "area_privada",
          "area_const",
          "admon",
          "Estrato",
          "Estado",
          "Antiguedad",
          "Piso No",
          "Tipo de Apartamento",
          "Sector"
         ],
         "xaxis": "x",
         "y": [
          0,
          0,
          0,
          0,
          0,
          0,
          0,
          0,
          0,
          0,
          0,
          0,
          0,
          0,
          0,
          42596,
          0,
          0
         ],
         "yaxis": "y"
        }
       ],
       "layout": {
        "barmode": "relative",
        "legend": {
         "tracegroupgap": 0
        },
        "template": {
         "data": {
          "bar": [
           {
            "error_x": {
             "color": "#2a3f5f"
            },
            "error_y": {
             "color": "#2a3f5f"
            },
            "marker": {
             "line": {
              "color": "#E5ECF6",
              "width": 0.5
             },
             "pattern": {
              "fillmode": "overlay",
              "size": 10,
              "solidity": 0.2
             }
            },
            "type": "bar"
           }
          ],
          "barpolar": [
           {
            "marker": {
             "line": {
              "color": "#E5ECF6",
              "width": 0.5
             },
             "pattern": {
              "fillmode": "overlay",
              "size": 10,
              "solidity": 0.2
             }
            },
            "type": "barpolar"
           }
          ],
          "carpet": [
           {
            "aaxis": {
             "endlinecolor": "#2a3f5f",
             "gridcolor": "white",
             "linecolor": "white",
             "minorgridcolor": "white",
             "startlinecolor": "#2a3f5f"
            },
            "baxis": {
             "endlinecolor": "#2a3f5f",
             "gridcolor": "white",
             "linecolor": "white",
             "minorgridcolor": "white",
             "startlinecolor": "#2a3f5f"
            },
            "type": "carpet"
           }
          ],
          "choropleth": [
           {
            "colorbar": {
             "outlinewidth": 0,
             "ticks": ""
            },
            "type": "choropleth"
           }
          ],
          "contour": [
           {
            "colorbar": {
             "outlinewidth": 0,
             "ticks": ""
            },
            "colorscale": [
             [
              0,
              "#0d0887"
             ],
             [
              0.1111111111111111,
              "#46039f"
             ],
             [
              0.2222222222222222,
              "#7201a8"
             ],
             [
              0.3333333333333333,
              "#9c179e"
             ],
             [
              0.4444444444444444,
              "#bd3786"
             ],
             [
              0.5555555555555556,
              "#d8576b"
             ],
             [
              0.6666666666666666,
              "#ed7953"
             ],
             [
              0.7777777777777778,
              "#fb9f3a"
             ],
             [
              0.8888888888888888,
              "#fdca26"
             ],
             [
              1,
              "#f0f921"
             ]
            ],
            "type": "contour"
           }
          ],
          "contourcarpet": [
           {
            "colorbar": {
             "outlinewidth": 0,
             "ticks": ""
            },
            "type": "contourcarpet"
           }
          ],
          "heatmap": [
           {
            "colorbar": {
             "outlinewidth": 0,
             "ticks": ""
            },
            "colorscale": [
             [
              0,
              "#0d0887"
             ],
             [
              0.1111111111111111,
              "#46039f"
             ],
             [
              0.2222222222222222,
              "#7201a8"
             ],
             [
              0.3333333333333333,
              "#9c179e"
             ],
             [
              0.4444444444444444,
              "#bd3786"
             ],
             [
              0.5555555555555556,
              "#d8576b"
             ],
             [
              0.6666666666666666,
              "#ed7953"
             ],
             [
              0.7777777777777778,
              "#fb9f3a"
             ],
             [
              0.8888888888888888,
              "#fdca26"
             ],
             [
              1,
              "#f0f921"
             ]
            ],
            "type": "heatmap"
           }
          ],
          "heatmapgl": [
           {
            "colorbar": {
             "outlinewidth": 0,
             "ticks": ""
            },
            "colorscale": [
             [
              0,
              "#0d0887"
             ],
             [
              0.1111111111111111,
              "#46039f"
             ],
             [
              0.2222222222222222,
              "#7201a8"
             ],
             [
              0.3333333333333333,
              "#9c179e"
             ],
             [
              0.4444444444444444,
              "#bd3786"
             ],
             [
              0.5555555555555556,
              "#d8576b"
             ],
             [
              0.6666666666666666,
              "#ed7953"
             ],
             [
              0.7777777777777778,
              "#fb9f3a"
             ],
             [
              0.8888888888888888,
              "#fdca26"
             ],
             [
              1,
              "#f0f921"
             ]
            ],
            "type": "heatmapgl"
           }
          ],
          "histogram": [
           {
            "marker": {
             "pattern": {
              "fillmode": "overlay",
              "size": 10,
              "solidity": 0.2
             }
            },
            "type": "histogram"
           }
          ],
          "histogram2d": [
           {
            "colorbar": {
             "outlinewidth": 0,
             "ticks": ""
            },
            "colorscale": [
             [
              0,
              "#0d0887"
             ],
             [
              0.1111111111111111,
              "#46039f"
             ],
             [
              0.2222222222222222,
              "#7201a8"
             ],
             [
              0.3333333333333333,
              "#9c179e"
             ],
             [
              0.4444444444444444,
              "#bd3786"
             ],
             [
              0.5555555555555556,
              "#d8576b"
             ],
             [
              0.6666666666666666,
              "#ed7953"
             ],
             [
              0.7777777777777778,
              "#fb9f3a"
             ],
             [
              0.8888888888888888,
              "#fdca26"
             ],
             [
              1,
              "#f0f921"
             ]
            ],
            "type": "histogram2d"
           }
          ],
          "histogram2dcontour": [
           {
            "colorbar": {
             "outlinewidth": 0,
             "ticks": ""
            },
            "colorscale": [
             [
              0,
              "#0d0887"
             ],
             [
              0.1111111111111111,
              "#46039f"
             ],
             [
              0.2222222222222222,
              "#7201a8"
             ],
             [
              0.3333333333333333,
              "#9c179e"
             ],
             [
              0.4444444444444444,
              "#bd3786"
             ],
             [
              0.5555555555555556,
              "#d8576b"
             ],
             [
              0.6666666666666666,
              "#ed7953"
             ],
             [
              0.7777777777777778,
              "#fb9f3a"
             ],
             [
              0.8888888888888888,
              "#fdca26"
             ],
             [
              1,
              "#f0f921"
             ]
            ],
            "type": "histogram2dcontour"
           }
          ],
          "mesh3d": [
           {
            "colorbar": {
             "outlinewidth": 0,
             "ticks": ""
            },
            "type": "mesh3d"
           }
          ],
          "parcoords": [
           {
            "line": {
             "colorbar": {
              "outlinewidth": 0,
              "ticks": ""
             }
            },
            "type": "parcoords"
           }
          ],
          "pie": [
           {
            "automargin": true,
            "type": "pie"
           }
          ],
          "scatter": [
           {
            "fillpattern": {
             "fillmode": "overlay",
             "size": 10,
             "solidity": 0.2
            },
            "type": "scatter"
           }
          ],
          "scatter3d": [
           {
            "line": {
             "colorbar": {
              "outlinewidth": 0,
              "ticks": ""
             }
            },
            "marker": {
             "colorbar": {
              "outlinewidth": 0,
              "ticks": ""
             }
            },
            "type": "scatter3d"
           }
          ],
          "scattercarpet": [
           {
            "marker": {
             "colorbar": {
              "outlinewidth": 0,
              "ticks": ""
             }
            },
            "type": "scattercarpet"
           }
          ],
          "scattergeo": [
           {
            "marker": {
             "colorbar": {
              "outlinewidth": 0,
              "ticks": ""
             }
            },
            "type": "scattergeo"
           }
          ],
          "scattergl": [
           {
            "marker": {
             "colorbar": {
              "outlinewidth": 0,
              "ticks": ""
             }
            },
            "type": "scattergl"
           }
          ],
          "scattermapbox": [
           {
            "marker": {
             "colorbar": {
              "outlinewidth": 0,
              "ticks": ""
             }
            },
            "type": "scattermapbox"
           }
          ],
          "scatterpolar": [
           {
            "marker": {
             "colorbar": {
              "outlinewidth": 0,
              "ticks": ""
             }
            },
            "type": "scatterpolar"
           }
          ],
          "scatterpolargl": [
           {
            "marker": {
             "colorbar": {
              "outlinewidth": 0,
              "ticks": ""
             }
            },
            "type": "scatterpolargl"
           }
          ],
          "scatterternary": [
           {
            "marker": {
             "colorbar": {
              "outlinewidth": 0,
              "ticks": ""
             }
            },
            "type": "scatterternary"
           }
          ],
          "surface": [
           {
            "colorbar": {
             "outlinewidth": 0,
             "ticks": ""
            },
            "colorscale": [
             [
              0,
              "#0d0887"
             ],
             [
              0.1111111111111111,
              "#46039f"
             ],
             [
              0.2222222222222222,
              "#7201a8"
             ],
             [
              0.3333333333333333,
              "#9c179e"
             ],
             [
              0.4444444444444444,
              "#bd3786"
             ],
             [
              0.5555555555555556,
              "#d8576b"
             ],
             [
              0.6666666666666666,
              "#ed7953"
             ],
             [
              0.7777777777777778,
              "#fb9f3a"
             ],
             [
              0.8888888888888888,
              "#fdca26"
             ],
             [
              1,
              "#f0f921"
             ]
            ],
            "type": "surface"
           }
          ],
          "table": [
           {
            "cells": {
             "fill": {
              "color": "#EBF0F8"
             },
             "line": {
              "color": "white"
             }
            },
            "header": {
             "fill": {
              "color": "#C8D4E3"
             },
             "line": {
              "color": "white"
             }
            },
            "type": "table"
           }
          ]
         },
         "layout": {
          "annotationdefaults": {
           "arrowcolor": "#2a3f5f",
           "arrowhead": 0,
           "arrowwidth": 1
          },
          "autotypenumbers": "strict",
          "coloraxis": {
           "colorbar": {
            "outlinewidth": 0,
            "ticks": ""
           }
          },
          "colorscale": {
           "diverging": [
            [
             0,
             "#8e0152"
            ],
            [
             0.1,
             "#c51b7d"
            ],
            [
             0.2,
             "#de77ae"
            ],
            [
             0.3,
             "#f1b6da"
            ],
            [
             0.4,
             "#fde0ef"
            ],
            [
             0.5,
             "#f7f7f7"
            ],
            [
             0.6,
             "#e6f5d0"
            ],
            [
             0.7,
             "#b8e186"
            ],
            [
             0.8,
             "#7fbc41"
            ],
            [
             0.9,
             "#4d9221"
            ],
            [
             1,
             "#276419"
            ]
           ],
           "sequential": [
            [
             0,
             "#0d0887"
            ],
            [
             0.1111111111111111,
             "#46039f"
            ],
            [
             0.2222222222222222,
             "#7201a8"
            ],
            [
             0.3333333333333333,
             "#9c179e"
            ],
            [
             0.4444444444444444,
             "#bd3786"
            ],
            [
             0.5555555555555556,
             "#d8576b"
            ],
            [
             0.6666666666666666,
             "#ed7953"
            ],
            [
             0.7777777777777778,
             "#fb9f3a"
            ],
            [
             0.8888888888888888,
             "#fdca26"
            ],
            [
             1,
             "#f0f921"
            ]
           ],
           "sequentialminus": [
            [
             0,
             "#0d0887"
            ],
            [
             0.1111111111111111,
             "#46039f"
            ],
            [
             0.2222222222222222,
             "#7201a8"
            ],
            [
             0.3333333333333333,
             "#9c179e"
            ],
            [
             0.4444444444444444,
             "#bd3786"
            ],
            [
             0.5555555555555556,
             "#d8576b"
            ],
            [
             0.6666666666666666,
             "#ed7953"
            ],
            [
             0.7777777777777778,
             "#fb9f3a"
            ],
            [
             0.8888888888888888,
             "#fdca26"
            ],
            [
             1,
             "#f0f921"
            ]
           ]
          },
          "colorway": [
           "#636efa",
           "#EF553B",
           "#00cc96",
           "#ab63fa",
           "#FFA15A",
           "#19d3f3",
           "#FF6692",
           "#B6E880",
           "#FF97FF",
           "#FECB52"
          ],
          "font": {
           "color": "#2a3f5f"
          },
          "geo": {
           "bgcolor": "white",
           "lakecolor": "white",
           "landcolor": "#E5ECF6",
           "showlakes": true,
           "showland": true,
           "subunitcolor": "white"
          },
          "hoverlabel": {
           "align": "left"
          },
          "hovermode": "closest",
          "mapbox": {
           "style": "light"
          },
          "paper_bgcolor": "white",
          "plot_bgcolor": "#E5ECF6",
          "polar": {
           "angularaxis": {
            "gridcolor": "white",
            "linecolor": "white",
            "ticks": ""
           },
           "bgcolor": "#E5ECF6",
           "radialaxis": {
            "gridcolor": "white",
            "linecolor": "white",
            "ticks": ""
           }
          },
          "scene": {
           "xaxis": {
            "backgroundcolor": "#E5ECF6",
            "gridcolor": "white",
            "gridwidth": 2,
            "linecolor": "white",
            "showbackground": true,
            "ticks": "",
            "zerolinecolor": "white"
           },
           "yaxis": {
            "backgroundcolor": "#E5ECF6",
            "gridcolor": "white",
            "gridwidth": 2,
            "linecolor": "white",
            "showbackground": true,
            "ticks": "",
            "zerolinecolor": "white"
           },
           "zaxis": {
            "backgroundcolor": "#E5ECF6",
            "gridcolor": "white",
            "gridwidth": 2,
            "linecolor": "white",
            "showbackground": true,
            "ticks": "",
            "zerolinecolor": "white"
           }
          },
          "shapedefaults": {
           "line": {
            "color": "#2a3f5f"
           }
          },
          "ternary": {
           "aaxis": {
            "gridcolor": "white",
            "linecolor": "white",
            "ticks": ""
           },
           "baxis": {
            "gridcolor": "white",
            "linecolor": "white",
            "ticks": ""
           },
           "bgcolor": "#E5ECF6",
           "caxis": {
            "gridcolor": "white",
            "linecolor": "white",
            "ticks": ""
           }
          },
          "title": {
           "x": 0.05
          },
          "xaxis": {
           "automargin": true,
           "gridcolor": "white",
           "linecolor": "white",
           "ticks": "",
           "title": {
            "standoff": 15
           },
           "zerolinecolor": "white",
           "zerolinewidth": 2
          },
          "yaxis": {
           "automargin": true,
           "gridcolor": "white",
           "linecolor": "white",
           "ticks": "",
           "title": {
            "standoff": 15
           },
           "zerolinecolor": "white",
           "zerolinewidth": 2
          }
         }
        },
        "title": {
         "text": "Conteo de valores nulos por columna"
        },
        "xaxis": {
         "anchor": "y",
         "domain": [
          0,
          1
         ],
         "tickangle": -45,
         "title": {
          "text": "Columnas"
         }
        },
        "yaxis": {
         "anchor": "x",
         "domain": [
          0,
          1
         ],
         "title": {
          "text": "Conteo de valores nulos"
         }
        }
       }
      }
     },
     "metadata": {},
     "output_type": "display_data"
    },
    {
     "data": {
      "application/vnd.plotly.v1+json": {
       "config": {
        "plotlyServerURL": "https://plot.ly"
       },
       "data": [
        {
         "marker": {
          "color": "#F2C6AC"
         },
         "name": "Porcentaje de Nulos",
         "type": "bar",
         "x": [
          "lat",
          "long",
          "category",
          "price",
          "rooms",
          "baths",
          "park",
          "ciudad",
          "barrio",
          "area_privada",
          "area_const",
          "admon",
          "Estrato",
          "Estado",
          "Antiguedad",
          "Piso No",
          "Tipo de Apartamento",
          "Sector"
         ],
         "y": [
          0,
          0,
          0,
          0,
          0,
          0,
          0,
          0,
          0,
          0,
          0,
          0,
          0,
          0,
          0,
          27.46268656716418,
          0,
          0
         ]
        },
        {
         "line": {
          "color": "#1F3040"
         },
         "marker": {
          "color": "#1F3040"
         },
         "mode": "lines+markers",
         "name": "Porcentaje de Datos Únicos",
         "type": "scatter",
         "x": [
          "lat",
          "long",
          "category",
          "price",
          "rooms",
          "baths",
          "park",
          "ciudad",
          "barrio",
          "area_privada",
          "area_const",
          "admon",
          "Estrato",
          "Estado",
          "Antiguedad",
          "Piso No",
          "Tipo de Apartamento",
          "Sector"
         ],
         "y": [
          48.15383127558751,
          26.973985364752913,
          0.0019341736243190099,
          2.5853454111730763,
          2.4905709035814447,
          0.7594855098159312,
          0.5422133393507624,
          0.0045130717900776895,
          3.0437445601366813,
          3.9534508881080557,
          4.872828084201025,
          36.58038103220399,
          1.1585700009670867,
          0.00257889816575868,
          0.0038683472486380197,
          0.01031559266303472,
          0.005802520872957029,
          0.5970149253731344
         ]
        }
       ],
       "layout": {
        "legend": {
         "x": 0,
         "y": 1
        },
        "template": {
         "data": {
          "bar": [
           {
            "error_x": {
             "color": "#2a3f5f"
            },
            "error_y": {
             "color": "#2a3f5f"
            },
            "marker": {
             "line": {
              "color": "#E5ECF6",
              "width": 0.5
             },
             "pattern": {
              "fillmode": "overlay",
              "size": 10,
              "solidity": 0.2
             }
            },
            "type": "bar"
           }
          ],
          "barpolar": [
           {
            "marker": {
             "line": {
              "color": "#E5ECF6",
              "width": 0.5
             },
             "pattern": {
              "fillmode": "overlay",
              "size": 10,
              "solidity": 0.2
             }
            },
            "type": "barpolar"
           }
          ],
          "carpet": [
           {
            "aaxis": {
             "endlinecolor": "#2a3f5f",
             "gridcolor": "white",
             "linecolor": "white",
             "minorgridcolor": "white",
             "startlinecolor": "#2a3f5f"
            },
            "baxis": {
             "endlinecolor": "#2a3f5f",
             "gridcolor": "white",
             "linecolor": "white",
             "minorgridcolor": "white",
             "startlinecolor": "#2a3f5f"
            },
            "type": "carpet"
           }
          ],
          "choropleth": [
           {
            "colorbar": {
             "outlinewidth": 0,
             "ticks": ""
            },
            "type": "choropleth"
           }
          ],
          "contour": [
           {
            "colorbar": {
             "outlinewidth": 0,
             "ticks": ""
            },
            "colorscale": [
             [
              0,
              "#0d0887"
             ],
             [
              0.1111111111111111,
              "#46039f"
             ],
             [
              0.2222222222222222,
              "#7201a8"
             ],
             [
              0.3333333333333333,
              "#9c179e"
             ],
             [
              0.4444444444444444,
              "#bd3786"
             ],
             [
              0.5555555555555556,
              "#d8576b"
             ],
             [
              0.6666666666666666,
              "#ed7953"
             ],
             [
              0.7777777777777778,
              "#fb9f3a"
             ],
             [
              0.8888888888888888,
              "#fdca26"
             ],
             [
              1,
              "#f0f921"
             ]
            ],
            "type": "contour"
           }
          ],
          "contourcarpet": [
           {
            "colorbar": {
             "outlinewidth": 0,
             "ticks": ""
            },
            "type": "contourcarpet"
           }
          ],
          "heatmap": [
           {
            "colorbar": {
             "outlinewidth": 0,
             "ticks": ""
            },
            "colorscale": [
             [
              0,
              "#0d0887"
             ],
             [
              0.1111111111111111,
              "#46039f"
             ],
             [
              0.2222222222222222,
              "#7201a8"
             ],
             [
              0.3333333333333333,
              "#9c179e"
             ],
             [
              0.4444444444444444,
              "#bd3786"
             ],
             [
              0.5555555555555556,
              "#d8576b"
             ],
             [
              0.6666666666666666,
              "#ed7953"
             ],
             [
              0.7777777777777778,
              "#fb9f3a"
             ],
             [
              0.8888888888888888,
              "#fdca26"
             ],
             [
              1,
              "#f0f921"
             ]
            ],
            "type": "heatmap"
           }
          ],
          "heatmapgl": [
           {
            "colorbar": {
             "outlinewidth": 0,
             "ticks": ""
            },
            "colorscale": [
             [
              0,
              "#0d0887"
             ],
             [
              0.1111111111111111,
              "#46039f"
             ],
             [
              0.2222222222222222,
              "#7201a8"
             ],
             [
              0.3333333333333333,
              "#9c179e"
             ],
             [
              0.4444444444444444,
              "#bd3786"
             ],
             [
              0.5555555555555556,
              "#d8576b"
             ],
             [
              0.6666666666666666,
              "#ed7953"
             ],
             [
              0.7777777777777778,
              "#fb9f3a"
             ],
             [
              0.8888888888888888,
              "#fdca26"
             ],
             [
              1,
              "#f0f921"
             ]
            ],
            "type": "heatmapgl"
           }
          ],
          "histogram": [
           {
            "marker": {
             "pattern": {
              "fillmode": "overlay",
              "size": 10,
              "solidity": 0.2
             }
            },
            "type": "histogram"
           }
          ],
          "histogram2d": [
           {
            "colorbar": {
             "outlinewidth": 0,
             "ticks": ""
            },
            "colorscale": [
             [
              0,
              "#0d0887"
             ],
             [
              0.1111111111111111,
              "#46039f"
             ],
             [
              0.2222222222222222,
              "#7201a8"
             ],
             [
              0.3333333333333333,
              "#9c179e"
             ],
             [
              0.4444444444444444,
              "#bd3786"
             ],
             [
              0.5555555555555556,
              "#d8576b"
             ],
             [
              0.6666666666666666,
              "#ed7953"
             ],
             [
              0.7777777777777778,
              "#fb9f3a"
             ],
             [
              0.8888888888888888,
              "#fdca26"
             ],
             [
              1,
              "#f0f921"
             ]
            ],
            "type": "histogram2d"
           }
          ],
          "histogram2dcontour": [
           {
            "colorbar": {
             "outlinewidth": 0,
             "ticks": ""
            },
            "colorscale": [
             [
              0,
              "#0d0887"
             ],
             [
              0.1111111111111111,
              "#46039f"
             ],
             [
              0.2222222222222222,
              "#7201a8"
             ],
             [
              0.3333333333333333,
              "#9c179e"
             ],
             [
              0.4444444444444444,
              "#bd3786"
             ],
             [
              0.5555555555555556,
              "#d8576b"
             ],
             [
              0.6666666666666666,
              "#ed7953"
             ],
             [
              0.7777777777777778,
              "#fb9f3a"
             ],
             [
              0.8888888888888888,
              "#fdca26"
             ],
             [
              1,
              "#f0f921"
             ]
            ],
            "type": "histogram2dcontour"
           }
          ],
          "mesh3d": [
           {
            "colorbar": {
             "outlinewidth": 0,
             "ticks": ""
            },
            "type": "mesh3d"
           }
          ],
          "parcoords": [
           {
            "line": {
             "colorbar": {
              "outlinewidth": 0,
              "ticks": ""
             }
            },
            "type": "parcoords"
           }
          ],
          "pie": [
           {
            "automargin": true,
            "type": "pie"
           }
          ],
          "scatter": [
           {
            "fillpattern": {
             "fillmode": "overlay",
             "size": 10,
             "solidity": 0.2
            },
            "type": "scatter"
           }
          ],
          "scatter3d": [
           {
            "line": {
             "colorbar": {
              "outlinewidth": 0,
              "ticks": ""
             }
            },
            "marker": {
             "colorbar": {
              "outlinewidth": 0,
              "ticks": ""
             }
            },
            "type": "scatter3d"
           }
          ],
          "scattercarpet": [
           {
            "marker": {
             "colorbar": {
              "outlinewidth": 0,
              "ticks": ""
             }
            },
            "type": "scattercarpet"
           }
          ],
          "scattergeo": [
           {
            "marker": {
             "colorbar": {
              "outlinewidth": 0,
              "ticks": ""
             }
            },
            "type": "scattergeo"
           }
          ],
          "scattergl": [
           {
            "marker": {
             "colorbar": {
              "outlinewidth": 0,
              "ticks": ""
             }
            },
            "type": "scattergl"
           }
          ],
          "scattermapbox": [
           {
            "marker": {
             "colorbar": {
              "outlinewidth": 0,
              "ticks": ""
             }
            },
            "type": "scattermapbox"
           }
          ],
          "scatterpolar": [
           {
            "marker": {
             "colorbar": {
              "outlinewidth": 0,
              "ticks": ""
             }
            },
            "type": "scatterpolar"
           }
          ],
          "scatterpolargl": [
           {
            "marker": {
             "colorbar": {
              "outlinewidth": 0,
              "ticks": ""
             }
            },
            "type": "scatterpolargl"
           }
          ],
          "scatterternary": [
           {
            "marker": {
             "colorbar": {
              "outlinewidth": 0,
              "ticks": ""
             }
            },
            "type": "scatterternary"
           }
          ],
          "surface": [
           {
            "colorbar": {
             "outlinewidth": 0,
             "ticks": ""
            },
            "colorscale": [
             [
              0,
              "#0d0887"
             ],
             [
              0.1111111111111111,
              "#46039f"
             ],
             [
              0.2222222222222222,
              "#7201a8"
             ],
             [
              0.3333333333333333,
              "#9c179e"
             ],
             [
              0.4444444444444444,
              "#bd3786"
             ],
             [
              0.5555555555555556,
              "#d8576b"
             ],
             [
              0.6666666666666666,
              "#ed7953"
             ],
             [
              0.7777777777777778,
              "#fb9f3a"
             ],
             [
              0.8888888888888888,
              "#fdca26"
             ],
             [
              1,
              "#f0f921"
             ]
            ],
            "type": "surface"
           }
          ],
          "table": [
           {
            "cells": {
             "fill": {
              "color": "#EBF0F8"
             },
             "line": {
              "color": "white"
             }
            },
            "header": {
             "fill": {
              "color": "#C8D4E3"
             },
             "line": {
              "color": "white"
             }
            },
            "type": "table"
           }
          ]
         },
         "layout": {
          "annotationdefaults": {
           "arrowcolor": "#2a3f5f",
           "arrowhead": 0,
           "arrowwidth": 1
          },
          "autotypenumbers": "strict",
          "coloraxis": {
           "colorbar": {
            "outlinewidth": 0,
            "ticks": ""
           }
          },
          "colorscale": {
           "diverging": [
            [
             0,
             "#8e0152"
            ],
            [
             0.1,
             "#c51b7d"
            ],
            [
             0.2,
             "#de77ae"
            ],
            [
             0.3,
             "#f1b6da"
            ],
            [
             0.4,
             "#fde0ef"
            ],
            [
             0.5,
             "#f7f7f7"
            ],
            [
             0.6,
             "#e6f5d0"
            ],
            [
             0.7,
             "#b8e186"
            ],
            [
             0.8,
             "#7fbc41"
            ],
            [
             0.9,
             "#4d9221"
            ],
            [
             1,
             "#276419"
            ]
           ],
           "sequential": [
            [
             0,
             "#0d0887"
            ],
            [
             0.1111111111111111,
             "#46039f"
            ],
            [
             0.2222222222222222,
             "#7201a8"
            ],
            [
             0.3333333333333333,
             "#9c179e"
            ],
            [
             0.4444444444444444,
             "#bd3786"
            ],
            [
             0.5555555555555556,
             "#d8576b"
            ],
            [
             0.6666666666666666,
             "#ed7953"
            ],
            [
             0.7777777777777778,
             "#fb9f3a"
            ],
            [
             0.8888888888888888,
             "#fdca26"
            ],
            [
             1,
             "#f0f921"
            ]
           ],
           "sequentialminus": [
            [
             0,
             "#0d0887"
            ],
            [
             0.1111111111111111,
             "#46039f"
            ],
            [
             0.2222222222222222,
             "#7201a8"
            ],
            [
             0.3333333333333333,
             "#9c179e"
            ],
            [
             0.4444444444444444,
             "#bd3786"
            ],
            [
             0.5555555555555556,
             "#d8576b"
            ],
            [
             0.6666666666666666,
             "#ed7953"
            ],
            [
             0.7777777777777778,
             "#fb9f3a"
            ],
            [
             0.8888888888888888,
             "#fdca26"
            ],
            [
             1,
             "#f0f921"
            ]
           ]
          },
          "colorway": [
           "#636efa",
           "#EF553B",
           "#00cc96",
           "#ab63fa",
           "#FFA15A",
           "#19d3f3",
           "#FF6692",
           "#B6E880",
           "#FF97FF",
           "#FECB52"
          ],
          "font": {
           "color": "#2a3f5f"
          },
          "geo": {
           "bgcolor": "white",
           "lakecolor": "white",
           "landcolor": "#E5ECF6",
           "showlakes": true,
           "showland": true,
           "subunitcolor": "white"
          },
          "hoverlabel": {
           "align": "left"
          },
          "hovermode": "closest",
          "mapbox": {
           "style": "light"
          },
          "paper_bgcolor": "white",
          "plot_bgcolor": "#E5ECF6",
          "polar": {
           "angularaxis": {
            "gridcolor": "white",
            "linecolor": "white",
            "ticks": ""
           },
           "bgcolor": "#E5ECF6",
           "radialaxis": {
            "gridcolor": "white",
            "linecolor": "white",
            "ticks": ""
           }
          },
          "scene": {
           "xaxis": {
            "backgroundcolor": "#E5ECF6",
            "gridcolor": "white",
            "gridwidth": 2,
            "linecolor": "white",
            "showbackground": true,
            "ticks": "",
            "zerolinecolor": "white"
           },
           "yaxis": {
            "backgroundcolor": "#E5ECF6",
            "gridcolor": "white",
            "gridwidth": 2,
            "linecolor": "white",
            "showbackground": true,
            "ticks": "",
            "zerolinecolor": "white"
           },
           "zaxis": {
            "backgroundcolor": "#E5ECF6",
            "gridcolor": "white",
            "gridwidth": 2,
            "linecolor": "white",
            "showbackground": true,
            "ticks": "",
            "zerolinecolor": "white"
           }
          },
          "shapedefaults": {
           "line": {
            "color": "#2a3f5f"
           }
          },
          "ternary": {
           "aaxis": {
            "gridcolor": "white",
            "linecolor": "white",
            "ticks": ""
           },
           "baxis": {
            "gridcolor": "white",
            "linecolor": "white",
            "ticks": ""
           },
           "bgcolor": "#E5ECF6",
           "caxis": {
            "gridcolor": "white",
            "linecolor": "white",
            "ticks": ""
           }
          },
          "title": {
           "x": 0.05
          },
          "xaxis": {
           "automargin": true,
           "gridcolor": "white",
           "linecolor": "white",
           "ticks": "",
           "title": {
            "standoff": 15
           },
           "zerolinecolor": "white",
           "zerolinewidth": 2
          },
          "yaxis": {
           "automargin": true,
           "gridcolor": "white",
           "linecolor": "white",
           "ticks": "",
           "title": {
            "standoff": 15
           },
           "zerolinecolor": "white",
           "zerolinewidth": 2
          }
         }
        },
        "title": {
         "text": "Porcentaje de valores nulos y únicos por columna"
        },
        "xaxis": {
         "tickangle": -45,
         "title": {
          "text": "Columnas"
         }
        },
        "yaxis": {
         "tickfont": {
          "size": 14
         },
         "title": {
          "font": {
           "size": 16
          },
          "text": "Porcentaje (%)"
         }
        }
       }
      }
     },
     "metadata": {},
     "output_type": "display_data"
    }
   ],
   "source": [
    "# Gráfico para el conteo de valores nulos con la paleta de colores especificada\n",
    "colors = ['#F2C6AC', '#1F3040', '#B9CDCA','#D99982', '#735749']  # Definir la paleta de colores\n",
    "fig_conteo = px.bar(analisis_nulos, x=analisis_nulos.index, y='Conteo', title='Conteo de valores nulos por columna',\n",
    "                    color_discrete_sequence=colors)\n",
    "fig_conteo.update_layout(xaxis_title='Columnas', yaxis_title='Conteo de valores nulos', xaxis_tickangle=-45)\n",
    "fig_conteo.show()\n",
    "\n",
    "# Gráfico para el porcentaje de valores nulos\n",
    "fig = go.Figure()\n",
    "\n",
    "# Agregar las barras para el porcentaje de valores nulos\n",
    "fig.add_trace(go.Bar(\n",
    "    x=analisis_nulos.index,\n",
    "    y=analisis_nulos['Porcentaje'],\n",
    "    name='Porcentaje de Nulos',\n",
    "    marker_color=colors[0]  # Asignar el primer color de la paleta\n",
    "))\n",
    "\n",
    "# Agregar una línea para el porcentaje de datos únicos\n",
    "fig.add_trace(go.Scatter(\n",
    "    x=analisis_nulos.index,\n",
    "    y=analisis_nulos['Porcentaje_Unicos'],\n",
    "    name='Porcentaje de Datos Únicos',\n",
    "    mode='lines+markers',\n",
    "    line=dict(color=colors[1]),  # Asignar el segundo color de la paleta\n",
    "    marker=dict(color=colors[1])  # Usar otro color para los marcadores\n",
    "))\n",
    "\n",
    "# Actualizar el layout para incluir título y nombres de ejes\n",
    "fig.update_layout(\n",
    "    title='Porcentaje de valores nulos y únicos por columna',\n",
    "    xaxis_title='Columnas',\n",
    "    yaxis_title='Porcentaje (%)',\n",
    "    xaxis_tickangle=-45,\n",
    "    yaxis=dict(\n",
    "        title='Porcentaje (%)',\n",
    "        titlefont_size=16,\n",
    "        tickfont_size=14,\n",
    "    ),\n",
    "    legend=dict(\n",
    "        x=0,\n",
    "        y=1.0,\n",
    "    )\n",
    ")\n",
    "\n",
    "# Mostrar el gráfico\n",
    "fig.show()"
   ]
  },
  {
   "cell_type": "code",
   "execution_count": 26,
   "metadata": {},
   "outputs": [
    {
     "data": {
      "image/png": "[encoded data removed]",
      "text/plain": [
       "<Figure size 1200x600 with 1 Axes>"
      ]
     },
     "metadata": {},
     "output_type": "display_data"
    }
   ],
   "source": [
    "# Mapa de calor de datos faltantes\n",
    "plt.figure(figsize=(12, 6))\n",
    "sns.heatmap(ventas.isnull(), cbar=False, cmap=custom_colors)\n",
    "plt.title('Mapa de calor de datos faltantes')\n",
    "plt.xticks(rotation=45, ha='right', fontsize=12)\n",
    "plt.yticks(fontsize=12)\n",
    "plt.show()"
   ]
  },
  {
   "cell_type": "code",
   "execution_count": 27,
   "metadata": {},
   "outputs": [],
   "source": [
    "# Reemplazar valores menores a 0 en admon\n",
    "ventas['admon'] = ventas['admon'].apply(lambda x: 0 if x < 0 else x)"
   ]
  },
  {
   "cell_type": "code",
   "execution_count": 28,
   "metadata": {},
   "outputs": [],
   "source": [
    "# Reemplazar valores mayores a 6 en estrato\n",
    "ventas['Estrato'] = ventas['Estrato'].apply(lambda x: 6 if x > 6 else x)"
   ]
  },
  {
   "cell_type": "code",
   "execution_count": 29,
   "metadata": {},
   "outputs": [
    {
     "data": {
      "text/html": [
       "<div>\n",
       "<style scoped>\n",
       "    .dataframe tbody tr th:only-of-type {\n",
       "        vertical-align: middle;\n",
       "    }\n",
       "\n",
       "    .dataframe tbody tr th {\n",
       "        vertical-align: top;\n",
       "    }\n",
       "\n",
       "    .dataframe thead th {\n",
       "        text-align: right;\n",
       "    }\n",
       "</style>\n",
       "<table border=\"1\" class=\"dataframe\">\n",
       "  <thead>\n",
       "    <tr style=\"text-align: right;\">\n",
       "      <th></th>\n",
       "      <th>count</th>\n",
       "      <th>mean</th>\n",
       "      <th>std</th>\n",
       "      <th>min</th>\n",
       "      <th>25%</th>\n",
       "      <th>50%</th>\n",
       "      <th>75%</th>\n",
       "      <th>max</th>\n",
       "    </tr>\n",
       "  </thead>\n",
       "  <tbody>\n",
       "    <tr>\n",
       "      <th>lat</th>\n",
       "      <td>155105.0</td>\n",
       "      <td>5.652091e+00</td>\n",
       "      <td>2.204566e+00</td>\n",
       "      <td>3.254000e+00</td>\n",
       "      <td>4.648077e+00</td>\n",
       "      <td>4.721532e+00</td>\n",
       "      <td>6.210060e+00</td>\n",
       "      <td>1.104366e+01</td>\n",
       "    </tr>\n",
       "    <tr>\n",
       "      <th>long</th>\n",
       "      <td>155105.0</td>\n",
       "      <td>-7.487562e+01</td>\n",
       "      <td>8.883420e-01</td>\n",
       "      <td>-7.657500e+01</td>\n",
       "      <td>-7.557198e+01</td>\n",
       "      <td>-7.420027e+01</td>\n",
       "      <td>-7.406731e+01</td>\n",
       "      <td>-7.396190e+01</td>\n",
       "    </tr>\n",
       "    <tr>\n",
       "      <th>price</th>\n",
       "      <td>155105.0</td>\n",
       "      <td>4.984872e+08</td>\n",
       "      <td>4.051956e+08</td>\n",
       "      <td>2.000000e+06</td>\n",
       "      <td>2.400000e+08</td>\n",
       "      <td>3.750000e+08</td>\n",
       "      <td>6.000000e+08</td>\n",
       "      <td>4.900000e+09</td>\n",
       "    </tr>\n",
       "    <tr>\n",
       "      <th>rooms</th>\n",
       "      <td>155105.0</td>\n",
       "      <td>3.016952e+00</td>\n",
       "      <td>1.046944e+00</td>\n",
       "      <td>1.000000e+00</td>\n",
       "      <td>2.785714e+00</td>\n",
       "      <td>3.000000e+00</td>\n",
       "      <td>3.000000e+00</td>\n",
       "      <td>7.676206e+00</td>\n",
       "    </tr>\n",
       "    <tr>\n",
       "      <th>baths</th>\n",
       "      <td>155105.0</td>\n",
       "      <td>2.563615e+00</td>\n",
       "      <td>1.120647e+00</td>\n",
       "      <td>8.593324e-01</td>\n",
       "      <td>2.000000e+00</td>\n",
       "      <td>2.000000e+00</td>\n",
       "      <td>3.000000e+00</td>\n",
       "      <td>7.000000e+00</td>\n",
       "    </tr>\n",
       "    <tr>\n",
       "      <th>park</th>\n",
       "      <td>155105.0</td>\n",
       "      <td>1.185103e+00</td>\n",
       "      <td>9.402160e-01</td>\n",
       "      <td>-9.909311e-02</td>\n",
       "      <td>1.000000e+00</td>\n",
       "      <td>1.000000e+00</td>\n",
       "      <td>2.000000e+00</td>\n",
       "      <td>5.000000e+00</td>\n",
       "    </tr>\n",
       "    <tr>\n",
       "      <th>area_privada</th>\n",
       "      <td>155105.0</td>\n",
       "      <td>1.114881e+02</td>\n",
       "      <td>6.199171e+01</td>\n",
       "      <td>1.000000e+00</td>\n",
       "      <td>6.500000e+01</td>\n",
       "      <td>9.400000e+01</td>\n",
       "      <td>1.390000e+02</td>\n",
       "      <td>3.250000e+02</td>\n",
       "    </tr>\n",
       "    <tr>\n",
       "      <th>area_const</th>\n",
       "      <td>155105.0</td>\n",
       "      <td>1.139092e+02</td>\n",
       "      <td>6.337710e+01</td>\n",
       "      <td>1.000000e+00</td>\n",
       "      <td>6.600000e+01</td>\n",
       "      <td>9.600000e+01</td>\n",
       "      <td>1.440000e+02</td>\n",
       "      <td>3.319651e+02</td>\n",
       "    </tr>\n",
       "    <tr>\n",
       "      <th>admon</th>\n",
       "      <td>155105.0</td>\n",
       "      <td>3.498544e+05</td>\n",
       "      <td>2.571560e+05</td>\n",
       "      <td>0.000000e+00</td>\n",
       "      <td>1.600000e+05</td>\n",
       "      <td>2.840000e+05</td>\n",
       "      <td>4.790000e+05</td>\n",
       "      <td>2.118338e+06</td>\n",
       "    </tr>\n",
       "    <tr>\n",
       "      <th>Estrato</th>\n",
       "      <td>155105.0</td>\n",
       "      <td>4.359208e+00</td>\n",
       "      <td>1.265917e+00</td>\n",
       "      <td>1.000000e+00</td>\n",
       "      <td>3.000000e+00</td>\n",
       "      <td>4.000000e+00</td>\n",
       "      <td>6.000000e+00</td>\n",
       "      <td>6.000000e+00</td>\n",
       "    </tr>\n",
       "    <tr>\n",
       "      <th>Piso No</th>\n",
       "      <td>112509.0</td>\n",
       "      <td>3.753531e+00</td>\n",
       "      <td>3.098129e+00</td>\n",
       "      <td>1.000000e+00</td>\n",
       "      <td>1.000000e+00</td>\n",
       "      <td>3.000000e+00</td>\n",
       "      <td>5.000000e+00</td>\n",
       "      <td>1.600000e+01</td>\n",
       "    </tr>\n",
       "  </tbody>\n",
       "</table>\n",
       "</div>"
      ],
      "text/plain": [
       "                 count          mean           std           min  \\\n",
       "lat           155105.0  5.652091e+00  2.204566e+00  3.254000e+00   \n",
       "long          155105.0 -7.487562e+01  8.883420e-01 -7.657500e+01   \n",
       "price         155105.0  4.984872e+08  4.051956e+08  2.000000e+06   \n",
       "rooms         155105.0  3.016952e+00  1.046944e+00  1.000000e+00   \n",
       "baths         155105.0  2.563615e+00  1.120647e+00  8.593324e-01   \n",
       "park          155105.0  1.185103e+00  9.402160e-01 -9.909311e-02   \n",
       "area_privada  155105.0  1.114881e+02  6.199171e+01  1.000000e+00   \n",
       "area_const    155105.0  1.139092e+02  6.337710e+01  1.000000e+00   \n",
       "admon         155105.0  3.498544e+05  2.571560e+05  0.000000e+00   \n",
       "Estrato       155105.0  4.359208e+00  1.265917e+00  1.000000e+00   \n",
       "Piso No       112509.0  3.753531e+00  3.098129e+00  1.000000e+00   \n",
       "\n",
       "                       25%           50%           75%           max  \n",
       "lat           4.648077e+00  4.721532e+00  6.210060e+00  1.104366e+01  \n",
       "long         -7.557198e+01 -7.420027e+01 -7.406731e+01 -7.396190e+01  \n",
       "price         2.400000e+08  3.750000e+08  6.000000e+08  4.900000e+09  \n",
       "rooms         2.785714e+00  3.000000e+00  3.000000e+00  7.676206e+00  \n",
       "baths         2.000000e+00  2.000000e+00  3.000000e+00  7.000000e+00  \n",
       "park          1.000000e+00  1.000000e+00  2.000000e+00  5.000000e+00  \n",
       "area_privada  6.500000e+01  9.400000e+01  1.390000e+02  3.250000e+02  \n",
       "area_const    6.600000e+01  9.600000e+01  1.440000e+02  3.319651e+02  \n",
       "admon         1.600000e+05  2.840000e+05  4.790000e+05  2.118338e+06  \n",
       "Estrato       3.000000e+00  4.000000e+00  6.000000e+00  6.000000e+00  \n",
       "Piso No       1.000000e+00  3.000000e+00  5.000000e+00  1.600000e+01  "
      ]
     },
     "execution_count": 29,
     "metadata": {},
     "output_type": "execute_result"
    }
   ],
   "source": [
    "ventas.describe().T"
   ]
  },
  {
   "cell_type": "markdown",
   "metadata": {},
   "source": [
    "Nota: La variable 'Piso No' será excluida de nuestro análisis al tener demasiados valores nulos, que no pudieron ser imputados con ninguna técnica de imputación, adicionalmente solo tiene explicación para una de las categorías de inmuebles (Apartamentos)."
   ]
  }
 ],
 "metadata": {
  "kernelspec": {
   "display_name": "psqlpy_venv",
   "language": "python",
   "name": "psqlpy_venv"
  },
  "language_info": {
   "codemirror_mode": {
    "name": "ipython",
    "version": 3
   },
   "file_extension": ".py",
   "mimetype": "text/x-python",
   "name": "python",
   "nbconvert_exporter": "python",
   "pygments_lexer": "ipython3",
   "version": "3.11.5"
  }
 },
 "nbformat": 4,
 "nbformat_minor": 2
}
